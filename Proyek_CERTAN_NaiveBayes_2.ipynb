{
  "cells": [
    {
      "cell_type": "markdown",
      "metadata": {
        "id": "view-in-github",
        "colab_type": "text"
      },
      "source": [
        "<a href=\"https://colab.research.google.com/github/agnestsiburian/Proyek-CERTAN-NaiveBayes-G2/blob/main/Proyek_CERTAN_NaiveBayes_2.ipynb\" target=\"_parent\"><img src=\"https://colab.research.google.com/assets/colab-badge.svg\" alt=\"Open In Colab\"/></a>"
      ]
    },
    {
      "cell_type": "markdown",
      "id": "9360e2bf",
      "metadata": {
        "id": "9360e2bf"
      },
      "source": [
        "# <center>Pengembangan Model untuk Mengklasifikasi Malware Menggunakan Algoritma Naive Bayes</center>"
      ]
    },
    {
      "cell_type": "markdown",
      "id": "29fd0e87",
      "metadata": {
        "id": "29fd0e87"
      },
      "source": [
        "## Catatan Kerja Praktikum\n",
        "\n",
        "<table align=\"left\" style=\"font-family: sans-serif; font-size: 14px;\">\n",
        "    <tr>\n",
        "        <td style=\"text-align:left\">Kode Mata Kuliah</td>\n",
        "        <td style=\"text-align:left\">:</td>\n",
        "        <td style=\"text-align:left\">10S3001</td>\n",
        "    </tr>\n",
        "    <tr>\n",
        "        <td style=\"text-align:left\">Nama Mata Kuliah</td>\n",
        "        <td style=\"text-align:left\">:</td>\n",
        "        <td style=\"text-align:left\">Kecerdasan Buatan</td>\n",
        "    </tr>\n",
        "    <tr>\n",
        "        <td style=\"text-align:left\">Topik</td>\n",
        "        <td style=\"text-align:left\">:</td>\n",
        "        <td style=\"text-align:left\"><i>Naive Bayes dalam Klasifikasi Malware</i></td>\n",
        "    </tr>\n",
        "    <tr>\n",
        "        <td style=\"text-align:left\">Kelompok</td>\n",
        "        <td style=\"text-align:left\">:</td>\n",
        "        <td style=\"text-align:left\"><i>02</i></td>\n",
        "    </tr>\n",
        "    <tr>\n",
        "        <td style=\"text-align:left\">Anggota Kelompok</td>\n",
        "        <td style=\"text-align:left\">:</td>\n",
        "        <td style=\"text-align:left\" colspan=\"3\">\n",
        "            <i> 12S21040 Christina Putri Hutahaean </i><br>\n",
        "            <i> 12S21057 Agnes Theresia Siburian </i><br>\n",
        "            <i> 12S21059 Tio Manalu </i><br>\n",
        "            <i> 12S21060 Glory Natasya Hutahaean </i>\n",
        "        </td>\n",
        "    </tr>\n",
        "</table>"
      ]
    },
    {
      "cell_type": "markdown",
      "id": "71103a23",
      "metadata": {
        "id": "71103a23"
      },
      "source": [
        "## Implementasi"
      ]
    },
    {
      "cell_type": "markdown",
      "id": "ec586e15",
      "metadata": {
        "id": "ec586e15"
      },
      "source": [
        "First, import all the required libraries, including pandas for data manipulation, numpy for numerical operations, and scikit-learn for machine learning tasks. Matplotlib and seaborn are used for data visualization, and specific modules like LabelEncoder, StandardScaler, and GaussianNB are imported for preprocessing, model evaluation, and classification."
      ]
    },
    {
      "cell_type": "code",
      "execution_count": null,
      "id": "f88cee15",
      "metadata": {
        "id": "f88cee15"
      },
      "outputs": [],
      "source": [
        "# Import libraries\n",
        "\n",
        "# Standard Libraries\n",
        "import pandas as pd\n",
        "import numpy as np\n",
        "import matplotlib.pyplot as plt\n",
        "from matplotlib.colors import ListedColormap\n",
        "import seaborn as sns\n",
        "\n",
        "# Scikit-learn Libraries\n",
        "from sklearn.preprocessing import LabelEncoder\n",
        "from sklearn.preprocessing import StandardScaler\n",
        "from sklearn.preprocessing import LabelBinarizer\n",
        "from sklearn.model_selection import train_test_split\n",
        "from sklearn.naive_bayes import GaussianNB\n",
        "from sklearn import metrics\n",
        "from sklearn.metrics import accuracy_score\n",
        "from sklearn.metrics import classification_report\n",
        "from sklearn.metrics import precision_recall_curve\n",
        "from sklearn.metrics import confusion_matrix\n",
        "from sklearn.metrics import ConfusionMatrixDisplay\n",
        "from sklearn.metrics import f1_score"
      ]
    },
    {
      "cell_type": "markdown",
      "id": "c3d39a76",
      "metadata": {
        "id": "c3d39a76"
      },
      "source": [
        "Now, we will read the CSV file as our dataset *android_traffic.csv'* using **pandas**, displaying the first few rows to provide an initial overview of the data."
      ]
    },
    {
      "cell_type": "code",
      "execution_count": null,
      "id": "72e5bcfa",
      "metadata": {
        "colab": {
          "base_uri": "https://localhost:8080/",
          "height": 226
        },
        "id": "72e5bcfa",
        "outputId": "e22cda9e-ec33-4b9c-f725-6c7a50d8f99a"
      },
      "outputs": [
        {
          "output_type": "execute_result",
          "data": {
            "text/plain": [
              "        name  tcp_packets  dist_port_tcp  external_ips  volume_bytes  \\\n",
              "0  AntiVirus           36              6             3          3911   \n",
              "1  AntiVirus          117              0             9         23514   \n",
              "2  AntiVirus          196              0             6         24151   \n",
              "3  AntiVirus            6              0             1           889   \n",
              "4  AntiVirus            6              0             1           882   \n",
              "\n",
              "   udp_packets  tcp_urg_packet  source_app_packets  remote_app_packets  \\\n",
              "0            0               0                  39                  33   \n",
              "1            0               0                 128                 107   \n",
              "2            0               0                 205                 214   \n",
              "3            0               0                   7                   6   \n",
              "4            0               0                   7                   6   \n",
              "\n",
              "   source_app_bytes  remote_app_bytes  duracion  avg_local_pkt_rate  \\\n",
              "0              5100              4140       NaN                 NaN   \n",
              "1             26248             24358       NaN                 NaN   \n",
              "2            163887             24867       NaN                 NaN   \n",
              "3               819               975       NaN                 NaN   \n",
              "4               819               968       NaN                 NaN   \n",
              "\n",
              "   avg_remote_pkt_rate  source_app_packets.1  dns_query_times    type  \n",
              "0                  NaN                    39                3  benign  \n",
              "1                  NaN                   128               11  benign  \n",
              "2                  NaN                   205                9  benign  \n",
              "3                  NaN                     7                1  benign  \n",
              "4                  NaN                     7                1  benign  "
            ],
            "text/html": [
              "\n",
              "  <div id=\"df-161e14c3-4115-4e0e-8953-4ad265199797\" class=\"colab-df-container\">\n",
              "    <div>\n",
              "<style scoped>\n",
              "    .dataframe tbody tr th:only-of-type {\n",
              "        vertical-align: middle;\n",
              "    }\n",
              "\n",
              "    .dataframe tbody tr th {\n",
              "        vertical-align: top;\n",
              "    }\n",
              "\n",
              "    .dataframe thead th {\n",
              "        text-align: right;\n",
              "    }\n",
              "</style>\n",
              "<table border=\"1\" class=\"dataframe\">\n",
              "  <thead>\n",
              "    <tr style=\"text-align: right;\">\n",
              "      <th></th>\n",
              "      <th>name</th>\n",
              "      <th>tcp_packets</th>\n",
              "      <th>dist_port_tcp</th>\n",
              "      <th>external_ips</th>\n",
              "      <th>volume_bytes</th>\n",
              "      <th>udp_packets</th>\n",
              "      <th>tcp_urg_packet</th>\n",
              "      <th>source_app_packets</th>\n",
              "      <th>remote_app_packets</th>\n",
              "      <th>source_app_bytes</th>\n",
              "      <th>remote_app_bytes</th>\n",
              "      <th>duracion</th>\n",
              "      <th>avg_local_pkt_rate</th>\n",
              "      <th>avg_remote_pkt_rate</th>\n",
              "      <th>source_app_packets.1</th>\n",
              "      <th>dns_query_times</th>\n",
              "      <th>type</th>\n",
              "    </tr>\n",
              "  </thead>\n",
              "  <tbody>\n",
              "    <tr>\n",
              "      <th>0</th>\n",
              "      <td>AntiVirus</td>\n",
              "      <td>36</td>\n",
              "      <td>6</td>\n",
              "      <td>3</td>\n",
              "      <td>3911</td>\n",
              "      <td>0</td>\n",
              "      <td>0</td>\n",
              "      <td>39</td>\n",
              "      <td>33</td>\n",
              "      <td>5100</td>\n",
              "      <td>4140</td>\n",
              "      <td>NaN</td>\n",
              "      <td>NaN</td>\n",
              "      <td>NaN</td>\n",
              "      <td>39</td>\n",
              "      <td>3</td>\n",
              "      <td>benign</td>\n",
              "    </tr>\n",
              "    <tr>\n",
              "      <th>1</th>\n",
              "      <td>AntiVirus</td>\n",
              "      <td>117</td>\n",
              "      <td>0</td>\n",
              "      <td>9</td>\n",
              "      <td>23514</td>\n",
              "      <td>0</td>\n",
              "      <td>0</td>\n",
              "      <td>128</td>\n",
              "      <td>107</td>\n",
              "      <td>26248</td>\n",
              "      <td>24358</td>\n",
              "      <td>NaN</td>\n",
              "      <td>NaN</td>\n",
              "      <td>NaN</td>\n",
              "      <td>128</td>\n",
              "      <td>11</td>\n",
              "      <td>benign</td>\n",
              "    </tr>\n",
              "    <tr>\n",
              "      <th>2</th>\n",
              "      <td>AntiVirus</td>\n",
              "      <td>196</td>\n",
              "      <td>0</td>\n",
              "      <td>6</td>\n",
              "      <td>24151</td>\n",
              "      <td>0</td>\n",
              "      <td>0</td>\n",
              "      <td>205</td>\n",
              "      <td>214</td>\n",
              "      <td>163887</td>\n",
              "      <td>24867</td>\n",
              "      <td>NaN</td>\n",
              "      <td>NaN</td>\n",
              "      <td>NaN</td>\n",
              "      <td>205</td>\n",
              "      <td>9</td>\n",
              "      <td>benign</td>\n",
              "    </tr>\n",
              "    <tr>\n",
              "      <th>3</th>\n",
              "      <td>AntiVirus</td>\n",
              "      <td>6</td>\n",
              "      <td>0</td>\n",
              "      <td>1</td>\n",
              "      <td>889</td>\n",
              "      <td>0</td>\n",
              "      <td>0</td>\n",
              "      <td>7</td>\n",
              "      <td>6</td>\n",
              "      <td>819</td>\n",
              "      <td>975</td>\n",
              "      <td>NaN</td>\n",
              "      <td>NaN</td>\n",
              "      <td>NaN</td>\n",
              "      <td>7</td>\n",
              "      <td>1</td>\n",
              "      <td>benign</td>\n",
              "    </tr>\n",
              "    <tr>\n",
              "      <th>4</th>\n",
              "      <td>AntiVirus</td>\n",
              "      <td>6</td>\n",
              "      <td>0</td>\n",
              "      <td>1</td>\n",
              "      <td>882</td>\n",
              "      <td>0</td>\n",
              "      <td>0</td>\n",
              "      <td>7</td>\n",
              "      <td>6</td>\n",
              "      <td>819</td>\n",
              "      <td>968</td>\n",
              "      <td>NaN</td>\n",
              "      <td>NaN</td>\n",
              "      <td>NaN</td>\n",
              "      <td>7</td>\n",
              "      <td>1</td>\n",
              "      <td>benign</td>\n",
              "    </tr>\n",
              "  </tbody>\n",
              "</table>\n",
              "</div>\n",
              "    <div class=\"colab-df-buttons\">\n",
              "\n",
              "  <div class=\"colab-df-container\">\n",
              "    <button class=\"colab-df-convert\" onclick=\"convertToInteractive('df-161e14c3-4115-4e0e-8953-4ad265199797')\"\n",
              "            title=\"Convert this dataframe to an interactive table.\"\n",
              "            style=\"display:none;\">\n",
              "\n",
              "  <svg xmlns=\"http://www.w3.org/2000/svg\" height=\"24px\" viewBox=\"0 -960 960 960\">\n",
              "    <path d=\"M120-120v-720h720v720H120Zm60-500h600v-160H180v160Zm220 220h160v-160H400v160Zm0 220h160v-160H400v160ZM180-400h160v-160H180v160Zm440 0h160v-160H620v160ZM180-180h160v-160H180v160Zm440 0h160v-160H620v160Z\"/>\n",
              "  </svg>\n",
              "    </button>\n",
              "\n",
              "  <style>\n",
              "    .colab-df-container {\n",
              "      display:flex;\n",
              "      gap: 12px;\n",
              "    }\n",
              "\n",
              "    .colab-df-convert {\n",
              "      background-color: #E8F0FE;\n",
              "      border: none;\n",
              "      border-radius: 50%;\n",
              "      cursor: pointer;\n",
              "      display: none;\n",
              "      fill: #1967D2;\n",
              "      height: 32px;\n",
              "      padding: 0 0 0 0;\n",
              "      width: 32px;\n",
              "    }\n",
              "\n",
              "    .colab-df-convert:hover {\n",
              "      background-color: #E2EBFA;\n",
              "      box-shadow: 0px 1px 2px rgba(60, 64, 67, 0.3), 0px 1px 3px 1px rgba(60, 64, 67, 0.15);\n",
              "      fill: #174EA6;\n",
              "    }\n",
              "\n",
              "    .colab-df-buttons div {\n",
              "      margin-bottom: 4px;\n",
              "    }\n",
              "\n",
              "    [theme=dark] .colab-df-convert {\n",
              "      background-color: #3B4455;\n",
              "      fill: #D2E3FC;\n",
              "    }\n",
              "\n",
              "    [theme=dark] .colab-df-convert:hover {\n",
              "      background-color: #434B5C;\n",
              "      box-shadow: 0px 1px 3px 1px rgba(0, 0, 0, 0.15);\n",
              "      filter: drop-shadow(0px 1px 2px rgba(0, 0, 0, 0.3));\n",
              "      fill: #FFFFFF;\n",
              "    }\n",
              "  </style>\n",
              "\n",
              "    <script>\n",
              "      const buttonEl =\n",
              "        document.querySelector('#df-161e14c3-4115-4e0e-8953-4ad265199797 button.colab-df-convert');\n",
              "      buttonEl.style.display =\n",
              "        google.colab.kernel.accessAllowed ? 'block' : 'none';\n",
              "\n",
              "      async function convertToInteractive(key) {\n",
              "        const element = document.querySelector('#df-161e14c3-4115-4e0e-8953-4ad265199797');\n",
              "        const dataTable =\n",
              "          await google.colab.kernel.invokeFunction('convertToInteractive',\n",
              "                                                    [key], {});\n",
              "        if (!dataTable) return;\n",
              "\n",
              "        const docLinkHtml = 'Like what you see? Visit the ' +\n",
              "          '<a target=\"_blank\" href=https://colab.research.google.com/notebooks/data_table.ipynb>data table notebook</a>'\n",
              "          + ' to learn more about interactive tables.';\n",
              "        element.innerHTML = '';\n",
              "        dataTable['output_type'] = 'display_data';\n",
              "        await google.colab.output.renderOutput(dataTable, element);\n",
              "        const docLink = document.createElement('div');\n",
              "        docLink.innerHTML = docLinkHtml;\n",
              "        element.appendChild(docLink);\n",
              "      }\n",
              "    </script>\n",
              "  </div>\n",
              "\n",
              "\n",
              "<div id=\"df-f3990a0a-0c32-41da-8b54-6df3ada5c44b\">\n",
              "  <button class=\"colab-df-quickchart\" onclick=\"quickchart('df-f3990a0a-0c32-41da-8b54-6df3ada5c44b')\"\n",
              "            title=\"Suggest charts\"\n",
              "            style=\"display:none;\">\n",
              "\n",
              "<svg xmlns=\"http://www.w3.org/2000/svg\" height=\"24px\"viewBox=\"0 0 24 24\"\n",
              "     width=\"24px\">\n",
              "    <g>\n",
              "        <path d=\"M19 3H5c-1.1 0-2 .9-2 2v14c0 1.1.9 2 2 2h14c1.1 0 2-.9 2-2V5c0-1.1-.9-2-2-2zM9 17H7v-7h2v7zm4 0h-2V7h2v10zm4 0h-2v-4h2v4z\"/>\n",
              "    </g>\n",
              "</svg>\n",
              "  </button>\n",
              "\n",
              "<style>\n",
              "  .colab-df-quickchart {\n",
              "      --bg-color: #E8F0FE;\n",
              "      --fill-color: #1967D2;\n",
              "      --hover-bg-color: #E2EBFA;\n",
              "      --hover-fill-color: #174EA6;\n",
              "      --disabled-fill-color: #AAA;\n",
              "      --disabled-bg-color: #DDD;\n",
              "  }\n",
              "\n",
              "  [theme=dark] .colab-df-quickchart {\n",
              "      --bg-color: #3B4455;\n",
              "      --fill-color: #D2E3FC;\n",
              "      --hover-bg-color: #434B5C;\n",
              "      --hover-fill-color: #FFFFFF;\n",
              "      --disabled-bg-color: #3B4455;\n",
              "      --disabled-fill-color: #666;\n",
              "  }\n",
              "\n",
              "  .colab-df-quickchart {\n",
              "    background-color: var(--bg-color);\n",
              "    border: none;\n",
              "    border-radius: 50%;\n",
              "    cursor: pointer;\n",
              "    display: none;\n",
              "    fill: var(--fill-color);\n",
              "    height: 32px;\n",
              "    padding: 0;\n",
              "    width: 32px;\n",
              "  }\n",
              "\n",
              "  .colab-df-quickchart:hover {\n",
              "    background-color: var(--hover-bg-color);\n",
              "    box-shadow: 0 1px 2px rgba(60, 64, 67, 0.3), 0 1px 3px 1px rgba(60, 64, 67, 0.15);\n",
              "    fill: var(--button-hover-fill-color);\n",
              "  }\n",
              "\n",
              "  .colab-df-quickchart-complete:disabled,\n",
              "  .colab-df-quickchart-complete:disabled:hover {\n",
              "    background-color: var(--disabled-bg-color);\n",
              "    fill: var(--disabled-fill-color);\n",
              "    box-shadow: none;\n",
              "  }\n",
              "\n",
              "  .colab-df-spinner {\n",
              "    border: 2px solid var(--fill-color);\n",
              "    border-color: transparent;\n",
              "    border-bottom-color: var(--fill-color);\n",
              "    animation:\n",
              "      spin 1s steps(1) infinite;\n",
              "  }\n",
              "\n",
              "  @keyframes spin {\n",
              "    0% {\n",
              "      border-color: transparent;\n",
              "      border-bottom-color: var(--fill-color);\n",
              "      border-left-color: var(--fill-color);\n",
              "    }\n",
              "    20% {\n",
              "      border-color: transparent;\n",
              "      border-left-color: var(--fill-color);\n",
              "      border-top-color: var(--fill-color);\n",
              "    }\n",
              "    30% {\n",
              "      border-color: transparent;\n",
              "      border-left-color: var(--fill-color);\n",
              "      border-top-color: var(--fill-color);\n",
              "      border-right-color: var(--fill-color);\n",
              "    }\n",
              "    40% {\n",
              "      border-color: transparent;\n",
              "      border-right-color: var(--fill-color);\n",
              "      border-top-color: var(--fill-color);\n",
              "    }\n",
              "    60% {\n",
              "      border-color: transparent;\n",
              "      border-right-color: var(--fill-color);\n",
              "    }\n",
              "    80% {\n",
              "      border-color: transparent;\n",
              "      border-right-color: var(--fill-color);\n",
              "      border-bottom-color: var(--fill-color);\n",
              "    }\n",
              "    90% {\n",
              "      border-color: transparent;\n",
              "      border-bottom-color: var(--fill-color);\n",
              "    }\n",
              "  }\n",
              "</style>\n",
              "\n",
              "  <script>\n",
              "    async function quickchart(key) {\n",
              "      const quickchartButtonEl =\n",
              "        document.querySelector('#' + key + ' button');\n",
              "      quickchartButtonEl.disabled = true;  // To prevent multiple clicks.\n",
              "      quickchartButtonEl.classList.add('colab-df-spinner');\n",
              "      try {\n",
              "        const charts = await google.colab.kernel.invokeFunction(\n",
              "            'suggestCharts', [key], {});\n",
              "      } catch (error) {\n",
              "        console.error('Error during call to suggestCharts:', error);\n",
              "      }\n",
              "      quickchartButtonEl.classList.remove('colab-df-spinner');\n",
              "      quickchartButtonEl.classList.add('colab-df-quickchart-complete');\n",
              "    }\n",
              "    (() => {\n",
              "      let quickchartButtonEl =\n",
              "        document.querySelector('#df-f3990a0a-0c32-41da-8b54-6df3ada5c44b button');\n",
              "      quickchartButtonEl.style.display =\n",
              "        google.colab.kernel.accessAllowed ? 'block' : 'none';\n",
              "    })();\n",
              "  </script>\n",
              "</div>\n",
              "    </div>\n",
              "  </div>\n"
            ]
          },
          "metadata": {},
          "execution_count": 2
        }
      ],
      "source": [
        "# Read dataset\n",
        "df = pd.read_csv('/content/sample_data/android_traffic.csv', sep=';')\n",
        "df.head()"
      ]
    },
    {
      "cell_type": "markdown",
      "source": [
        "**df.info()** provides information about the dataset, including the data types of each column, the number of non-null values, and memory usage. Meanwhile, **df.shape** returns a tuple representing the dimensions of the DataFrame, i.e., the number of rows and columns."
      ],
      "metadata": {
        "id": "qO0bb5B2_REv"
      },
      "id": "qO0bb5B2_REv"
    },
    {
      "cell_type": "code",
      "execution_count": null,
      "id": "6157643c",
      "metadata": {
        "colab": {
          "base_uri": "https://localhost:8080/"
        },
        "id": "6157643c",
        "outputId": "9684db54-146c-4540-abe0-1f7475bc1d06"
      },
      "outputs": [
        {
          "output_type": "stream",
          "name": "stdout",
          "text": [
            "<class 'pandas.core.frame.DataFrame'>\n",
            "RangeIndex: 7845 entries, 0 to 7844\n",
            "Data columns (total 17 columns):\n",
            " #   Column                Non-Null Count  Dtype  \n",
            "---  ------                --------------  -----  \n",
            " 0   name                  7845 non-null   object \n",
            " 1   tcp_packets           7845 non-null   int64  \n",
            " 2   dist_port_tcp         7845 non-null   int64  \n",
            " 3   external_ips          7845 non-null   int64  \n",
            " 4   volume_bytes          7845 non-null   int64  \n",
            " 5   udp_packets           7845 non-null   int64  \n",
            " 6   tcp_urg_packet        7845 non-null   int64  \n",
            " 7   source_app_packets    7845 non-null   int64  \n",
            " 8   remote_app_packets    7845 non-null   int64  \n",
            " 9   source_app_bytes      7845 non-null   int64  \n",
            " 10  remote_app_bytes      7845 non-null   int64  \n",
            " 11  duracion              0 non-null      float64\n",
            " 12  avg_local_pkt_rate    0 non-null      float64\n",
            " 13  avg_remote_pkt_rate   0 non-null      float64\n",
            " 14  source_app_packets.1  7845 non-null   int64  \n",
            " 15  dns_query_times       7845 non-null   int64  \n",
            " 16  type                  7845 non-null   object \n",
            "dtypes: float64(3), int64(12), object(2)\n",
            "memory usage: 1.0+ MB\n"
          ]
        },
        {
          "output_type": "execute_result",
          "data": {
            "text/plain": [
              "(7845, 17)"
            ]
          },
          "metadata": {},
          "execution_count": 3
        }
      ],
      "source": [
        "df.info()\n",
        "df.shape"
      ]
    },
    {
      "cell_type": "markdown",
      "source": [
        "These two commands are often used together to get an overview of the dataset's structure and size."
      ],
      "metadata": {
        "id": "LDuHEKYN_sn_"
      },
      "id": "LDuHEKYN_sn_"
    },
    {
      "cell_type": "markdown",
      "source": [
        "Then, we drops unnecessary columns from the DataFrame using **df.drop** and then displays the first few rows of the modified DataFrame using **df.head()**."
      ],
      "metadata": {
        "id": "1jptPVatBpgL"
      },
      "id": "1jptPVatBpgL"
    },
    {
      "cell_type": "code",
      "execution_count": null,
      "id": "f5f86182",
      "metadata": {
        "colab": {
          "base_uri": "https://localhost:8080/",
          "height": 226
        },
        "id": "f5f86182",
        "outputId": "45c3a796-1570-4181-9a2d-b9c4746e4037"
      },
      "outputs": [
        {
          "output_type": "execute_result",
          "data": {
            "text/plain": [
              "        name  tcp_packets  dist_port_tcp  external_ips  volume_bytes  \\\n",
              "0  AntiVirus           36              6             3          3911   \n",
              "1  AntiVirus          117              0             9         23514   \n",
              "2  AntiVirus          196              0             6         24151   \n",
              "3  AntiVirus            6              0             1           889   \n",
              "4  AntiVirus            6              0             1           882   \n",
              "\n",
              "   udp_packets  tcp_urg_packet  source_app_packets  remote_app_packets  \\\n",
              "0            0               0                  39                  33   \n",
              "1            0               0                 128                 107   \n",
              "2            0               0                 205                 214   \n",
              "3            0               0                   7                   6   \n",
              "4            0               0                   7                   6   \n",
              "\n",
              "   source_app_bytes  remote_app_bytes  source_app_packets.1  dns_query_times  \\\n",
              "0              5100              4140                    39                3   \n",
              "1             26248             24358                   128               11   \n",
              "2            163887             24867                   205                9   \n",
              "3               819               975                     7                1   \n",
              "4               819               968                     7                1   \n",
              "\n",
              "     type  \n",
              "0  benign  \n",
              "1  benign  \n",
              "2  benign  \n",
              "3  benign  \n",
              "4  benign  "
            ],
            "text/html": [
              "\n",
              "  <div id=\"df-508c7cee-a15f-458e-93fe-a6925be6d1b2\" class=\"colab-df-container\">\n",
              "    <div>\n",
              "<style scoped>\n",
              "    .dataframe tbody tr th:only-of-type {\n",
              "        vertical-align: middle;\n",
              "    }\n",
              "\n",
              "    .dataframe tbody tr th {\n",
              "        vertical-align: top;\n",
              "    }\n",
              "\n",
              "    .dataframe thead th {\n",
              "        text-align: right;\n",
              "    }\n",
              "</style>\n",
              "<table border=\"1\" class=\"dataframe\">\n",
              "  <thead>\n",
              "    <tr style=\"text-align: right;\">\n",
              "      <th></th>\n",
              "      <th>name</th>\n",
              "      <th>tcp_packets</th>\n",
              "      <th>dist_port_tcp</th>\n",
              "      <th>external_ips</th>\n",
              "      <th>volume_bytes</th>\n",
              "      <th>udp_packets</th>\n",
              "      <th>tcp_urg_packet</th>\n",
              "      <th>source_app_packets</th>\n",
              "      <th>remote_app_packets</th>\n",
              "      <th>source_app_bytes</th>\n",
              "      <th>remote_app_bytes</th>\n",
              "      <th>source_app_packets.1</th>\n",
              "      <th>dns_query_times</th>\n",
              "      <th>type</th>\n",
              "    </tr>\n",
              "  </thead>\n",
              "  <tbody>\n",
              "    <tr>\n",
              "      <th>0</th>\n",
              "      <td>AntiVirus</td>\n",
              "      <td>36</td>\n",
              "      <td>6</td>\n",
              "      <td>3</td>\n",
              "      <td>3911</td>\n",
              "      <td>0</td>\n",
              "      <td>0</td>\n",
              "      <td>39</td>\n",
              "      <td>33</td>\n",
              "      <td>5100</td>\n",
              "      <td>4140</td>\n",
              "      <td>39</td>\n",
              "      <td>3</td>\n",
              "      <td>benign</td>\n",
              "    </tr>\n",
              "    <tr>\n",
              "      <th>1</th>\n",
              "      <td>AntiVirus</td>\n",
              "      <td>117</td>\n",
              "      <td>0</td>\n",
              "      <td>9</td>\n",
              "      <td>23514</td>\n",
              "      <td>0</td>\n",
              "      <td>0</td>\n",
              "      <td>128</td>\n",
              "      <td>107</td>\n",
              "      <td>26248</td>\n",
              "      <td>24358</td>\n",
              "      <td>128</td>\n",
              "      <td>11</td>\n",
              "      <td>benign</td>\n",
              "    </tr>\n",
              "    <tr>\n",
              "      <th>2</th>\n",
              "      <td>AntiVirus</td>\n",
              "      <td>196</td>\n",
              "      <td>0</td>\n",
              "      <td>6</td>\n",
              "      <td>24151</td>\n",
              "      <td>0</td>\n",
              "      <td>0</td>\n",
              "      <td>205</td>\n",
              "      <td>214</td>\n",
              "      <td>163887</td>\n",
              "      <td>24867</td>\n",
              "      <td>205</td>\n",
              "      <td>9</td>\n",
              "      <td>benign</td>\n",
              "    </tr>\n",
              "    <tr>\n",
              "      <th>3</th>\n",
              "      <td>AntiVirus</td>\n",
              "      <td>6</td>\n",
              "      <td>0</td>\n",
              "      <td>1</td>\n",
              "      <td>889</td>\n",
              "      <td>0</td>\n",
              "      <td>0</td>\n",
              "      <td>7</td>\n",
              "      <td>6</td>\n",
              "      <td>819</td>\n",
              "      <td>975</td>\n",
              "      <td>7</td>\n",
              "      <td>1</td>\n",
              "      <td>benign</td>\n",
              "    </tr>\n",
              "    <tr>\n",
              "      <th>4</th>\n",
              "      <td>AntiVirus</td>\n",
              "      <td>6</td>\n",
              "      <td>0</td>\n",
              "      <td>1</td>\n",
              "      <td>882</td>\n",
              "      <td>0</td>\n",
              "      <td>0</td>\n",
              "      <td>7</td>\n",
              "      <td>6</td>\n",
              "      <td>819</td>\n",
              "      <td>968</td>\n",
              "      <td>7</td>\n",
              "      <td>1</td>\n",
              "      <td>benign</td>\n",
              "    </tr>\n",
              "  </tbody>\n",
              "</table>\n",
              "</div>\n",
              "    <div class=\"colab-df-buttons\">\n",
              "\n",
              "  <div class=\"colab-df-container\">\n",
              "    <button class=\"colab-df-convert\" onclick=\"convertToInteractive('df-508c7cee-a15f-458e-93fe-a6925be6d1b2')\"\n",
              "            title=\"Convert this dataframe to an interactive table.\"\n",
              "            style=\"display:none;\">\n",
              "\n",
              "  <svg xmlns=\"http://www.w3.org/2000/svg\" height=\"24px\" viewBox=\"0 -960 960 960\">\n",
              "    <path d=\"M120-120v-720h720v720H120Zm60-500h600v-160H180v160Zm220 220h160v-160H400v160Zm0 220h160v-160H400v160ZM180-400h160v-160H180v160Zm440 0h160v-160H620v160ZM180-180h160v-160H180v160Zm440 0h160v-160H620v160Z\"/>\n",
              "  </svg>\n",
              "    </button>\n",
              "\n",
              "  <style>\n",
              "    .colab-df-container {\n",
              "      display:flex;\n",
              "      gap: 12px;\n",
              "    }\n",
              "\n",
              "    .colab-df-convert {\n",
              "      background-color: #E8F0FE;\n",
              "      border: none;\n",
              "      border-radius: 50%;\n",
              "      cursor: pointer;\n",
              "      display: none;\n",
              "      fill: #1967D2;\n",
              "      height: 32px;\n",
              "      padding: 0 0 0 0;\n",
              "      width: 32px;\n",
              "    }\n",
              "\n",
              "    .colab-df-convert:hover {\n",
              "      background-color: #E2EBFA;\n",
              "      box-shadow: 0px 1px 2px rgba(60, 64, 67, 0.3), 0px 1px 3px 1px rgba(60, 64, 67, 0.15);\n",
              "      fill: #174EA6;\n",
              "    }\n",
              "\n",
              "    .colab-df-buttons div {\n",
              "      margin-bottom: 4px;\n",
              "    }\n",
              "\n",
              "    [theme=dark] .colab-df-convert {\n",
              "      background-color: #3B4455;\n",
              "      fill: #D2E3FC;\n",
              "    }\n",
              "\n",
              "    [theme=dark] .colab-df-convert:hover {\n",
              "      background-color: #434B5C;\n",
              "      box-shadow: 0px 1px 3px 1px rgba(0, 0, 0, 0.15);\n",
              "      filter: drop-shadow(0px 1px 2px rgba(0, 0, 0, 0.3));\n",
              "      fill: #FFFFFF;\n",
              "    }\n",
              "  </style>\n",
              "\n",
              "    <script>\n",
              "      const buttonEl =\n",
              "        document.querySelector('#df-508c7cee-a15f-458e-93fe-a6925be6d1b2 button.colab-df-convert');\n",
              "      buttonEl.style.display =\n",
              "        google.colab.kernel.accessAllowed ? 'block' : 'none';\n",
              "\n",
              "      async function convertToInteractive(key) {\n",
              "        const element = document.querySelector('#df-508c7cee-a15f-458e-93fe-a6925be6d1b2');\n",
              "        const dataTable =\n",
              "          await google.colab.kernel.invokeFunction('convertToInteractive',\n",
              "                                                    [key], {});\n",
              "        if (!dataTable) return;\n",
              "\n",
              "        const docLinkHtml = 'Like what you see? Visit the ' +\n",
              "          '<a target=\"_blank\" href=https://colab.research.google.com/notebooks/data_table.ipynb>data table notebook</a>'\n",
              "          + ' to learn more about interactive tables.';\n",
              "        element.innerHTML = '';\n",
              "        dataTable['output_type'] = 'display_data';\n",
              "        await google.colab.output.renderOutput(dataTable, element);\n",
              "        const docLink = document.createElement('div');\n",
              "        docLink.innerHTML = docLinkHtml;\n",
              "        element.appendChild(docLink);\n",
              "      }\n",
              "    </script>\n",
              "  </div>\n",
              "\n",
              "\n",
              "<div id=\"df-b7ba4dee-c53b-43f7-a1ce-f76f6a269dbb\">\n",
              "  <button class=\"colab-df-quickchart\" onclick=\"quickchart('df-b7ba4dee-c53b-43f7-a1ce-f76f6a269dbb')\"\n",
              "            title=\"Suggest charts\"\n",
              "            style=\"display:none;\">\n",
              "\n",
              "<svg xmlns=\"http://www.w3.org/2000/svg\" height=\"24px\"viewBox=\"0 0 24 24\"\n",
              "     width=\"24px\">\n",
              "    <g>\n",
              "        <path d=\"M19 3H5c-1.1 0-2 .9-2 2v14c0 1.1.9 2 2 2h14c1.1 0 2-.9 2-2V5c0-1.1-.9-2-2-2zM9 17H7v-7h2v7zm4 0h-2V7h2v10zm4 0h-2v-4h2v4z\"/>\n",
              "    </g>\n",
              "</svg>\n",
              "  </button>\n",
              "\n",
              "<style>\n",
              "  .colab-df-quickchart {\n",
              "      --bg-color: #E8F0FE;\n",
              "      --fill-color: #1967D2;\n",
              "      --hover-bg-color: #E2EBFA;\n",
              "      --hover-fill-color: #174EA6;\n",
              "      --disabled-fill-color: #AAA;\n",
              "      --disabled-bg-color: #DDD;\n",
              "  }\n",
              "\n",
              "  [theme=dark] .colab-df-quickchart {\n",
              "      --bg-color: #3B4455;\n",
              "      --fill-color: #D2E3FC;\n",
              "      --hover-bg-color: #434B5C;\n",
              "      --hover-fill-color: #FFFFFF;\n",
              "      --disabled-bg-color: #3B4455;\n",
              "      --disabled-fill-color: #666;\n",
              "  }\n",
              "\n",
              "  .colab-df-quickchart {\n",
              "    background-color: var(--bg-color);\n",
              "    border: none;\n",
              "    border-radius: 50%;\n",
              "    cursor: pointer;\n",
              "    display: none;\n",
              "    fill: var(--fill-color);\n",
              "    height: 32px;\n",
              "    padding: 0;\n",
              "    width: 32px;\n",
              "  }\n",
              "\n",
              "  .colab-df-quickchart:hover {\n",
              "    background-color: var(--hover-bg-color);\n",
              "    box-shadow: 0 1px 2px rgba(60, 64, 67, 0.3), 0 1px 3px 1px rgba(60, 64, 67, 0.15);\n",
              "    fill: var(--button-hover-fill-color);\n",
              "  }\n",
              "\n",
              "  .colab-df-quickchart-complete:disabled,\n",
              "  .colab-df-quickchart-complete:disabled:hover {\n",
              "    background-color: var(--disabled-bg-color);\n",
              "    fill: var(--disabled-fill-color);\n",
              "    box-shadow: none;\n",
              "  }\n",
              "\n",
              "  .colab-df-spinner {\n",
              "    border: 2px solid var(--fill-color);\n",
              "    border-color: transparent;\n",
              "    border-bottom-color: var(--fill-color);\n",
              "    animation:\n",
              "      spin 1s steps(1) infinite;\n",
              "  }\n",
              "\n",
              "  @keyframes spin {\n",
              "    0% {\n",
              "      border-color: transparent;\n",
              "      border-bottom-color: var(--fill-color);\n",
              "      border-left-color: var(--fill-color);\n",
              "    }\n",
              "    20% {\n",
              "      border-color: transparent;\n",
              "      border-left-color: var(--fill-color);\n",
              "      border-top-color: var(--fill-color);\n",
              "    }\n",
              "    30% {\n",
              "      border-color: transparent;\n",
              "      border-left-color: var(--fill-color);\n",
              "      border-top-color: var(--fill-color);\n",
              "      border-right-color: var(--fill-color);\n",
              "    }\n",
              "    40% {\n",
              "      border-color: transparent;\n",
              "      border-right-color: var(--fill-color);\n",
              "      border-top-color: var(--fill-color);\n",
              "    }\n",
              "    60% {\n",
              "      border-color: transparent;\n",
              "      border-right-color: var(--fill-color);\n",
              "    }\n",
              "    80% {\n",
              "      border-color: transparent;\n",
              "      border-right-color: var(--fill-color);\n",
              "      border-bottom-color: var(--fill-color);\n",
              "    }\n",
              "    90% {\n",
              "      border-color: transparent;\n",
              "      border-bottom-color: var(--fill-color);\n",
              "    }\n",
              "  }\n",
              "</style>\n",
              "\n",
              "  <script>\n",
              "    async function quickchart(key) {\n",
              "      const quickchartButtonEl =\n",
              "        document.querySelector('#' + key + ' button');\n",
              "      quickchartButtonEl.disabled = true;  // To prevent multiple clicks.\n",
              "      quickchartButtonEl.classList.add('colab-df-spinner');\n",
              "      try {\n",
              "        const charts = await google.colab.kernel.invokeFunction(\n",
              "            'suggestCharts', [key], {});\n",
              "      } catch (error) {\n",
              "        console.error('Error during call to suggestCharts:', error);\n",
              "      }\n",
              "      quickchartButtonEl.classList.remove('colab-df-spinner');\n",
              "      quickchartButtonEl.classList.add('colab-df-quickchart-complete');\n",
              "    }\n",
              "    (() => {\n",
              "      let quickchartButtonEl =\n",
              "        document.querySelector('#df-b7ba4dee-c53b-43f7-a1ce-f76f6a269dbb button');\n",
              "      quickchartButtonEl.style.display =\n",
              "        google.colab.kernel.accessAllowed ? 'block' : 'none';\n",
              "    })();\n",
              "  </script>\n",
              "</div>\n",
              "    </div>\n",
              "  </div>\n"
            ]
          },
          "metadata": {},
          "execution_count": 4
        }
      ],
      "source": [
        "# Drop unnecessary columns\n",
        "df.drop(columns=['duracion', 'avg_local_pkt_rate', 'avg_remote_pkt_rate'], inplace=True)\n",
        "df.head()"
      ]
    },
    {
      "cell_type": "markdown",
      "source": [
        "**df.describe()** calculates descriptive statistics of the numerical columns in the DataFrame."
      ],
      "metadata": {
        "id": "s0xIc_tOB-BB"
      },
      "id": "s0xIc_tOB-BB"
    },
    {
      "cell_type": "code",
      "execution_count": null,
      "id": "56880d49",
      "metadata": {
        "colab": {
          "base_uri": "https://localhost:8080/",
          "height": 320
        },
        "id": "56880d49",
        "outputId": "bda015cc-491b-4b77-d5e4-392161bdf2ea"
      },
      "outputs": [
        {
          "output_type": "execute_result",
          "data": {
            "text/plain": [
              "        tcp_packets  dist_port_tcp  external_ips  volume_bytes  udp_packets  \\\n",
              "count   7845.000000    7845.000000   7845.000000  7.845000e+03  7845.000000   \n",
              "mean     147.578713       7.738177      2.748502  1.654375e+04     0.056724   \n",
              "std      777.920084      51.654222      2.923005  8.225650e+04     1.394046   \n",
              "min        0.000000       0.000000      0.000000  0.000000e+00     0.000000   \n",
              "25%        6.000000       0.000000      1.000000  8.880000e+02     0.000000   \n",
              "50%       25.000000       0.000000      2.000000  3.509000e+03     0.000000   \n",
              "75%       93.000000       0.000000      4.000000  1.218900e+04     0.000000   \n",
              "max    37143.000000    2167.000000     43.000000  4.226790e+06    65.000000   \n",
              "\n",
              "       tcp_urg_packet  source_app_packets  remote_app_packets  \\\n",
              "count     7845.000000         7845.000000         7845.000000   \n",
              "mean         0.000255          152.911918          194.706310   \n",
              "std          0.015966          779.034618         1068.112696   \n",
              "min          0.000000            1.000000            0.000000   \n",
              "25%          0.000000            7.000000            7.000000   \n",
              "50%          0.000000           30.000000           24.000000   \n",
              "75%          0.000000           98.000000           92.000000   \n",
              "max          1.000000        37150.000000        45928.000000   \n",
              "\n",
              "       source_app_bytes  remote_app_bytes  source_app_packets.1  \\\n",
              "count      7.845000e+03      7.845000e+03           7845.000000   \n",
              "mean       2.024967e+05      1.692260e+04            152.911918   \n",
              "std        1.401076e+06      8.238182e+04            779.034618   \n",
              "min        0.000000e+00      6.900000e+01              1.000000   \n",
              "25%        9.340000e+02      1.046000e+03              7.000000   \n",
              "50%        4.090000e+03      3.803000e+03             30.000000   \n",
              "75%        2.624400e+04      1.261000e+04             98.000000   \n",
              "max        6.823516e+07      4.227323e+06          37150.000000   \n",
              "\n",
              "       dns_query_times  \n",
              "count      7845.000000  \n",
              "mean          4.898917  \n",
              "std          18.900478  \n",
              "min           0.000000  \n",
              "25%           1.000000  \n",
              "50%           3.000000  \n",
              "75%           5.000000  \n",
              "max         913.000000  "
            ],
            "text/html": [
              "\n",
              "  <div id=\"df-45e638aa-736e-46e7-a002-3d99bc01c5f1\" class=\"colab-df-container\">\n",
              "    <div>\n",
              "<style scoped>\n",
              "    .dataframe tbody tr th:only-of-type {\n",
              "        vertical-align: middle;\n",
              "    }\n",
              "\n",
              "    .dataframe tbody tr th {\n",
              "        vertical-align: top;\n",
              "    }\n",
              "\n",
              "    .dataframe thead th {\n",
              "        text-align: right;\n",
              "    }\n",
              "</style>\n",
              "<table border=\"1\" class=\"dataframe\">\n",
              "  <thead>\n",
              "    <tr style=\"text-align: right;\">\n",
              "      <th></th>\n",
              "      <th>tcp_packets</th>\n",
              "      <th>dist_port_tcp</th>\n",
              "      <th>external_ips</th>\n",
              "      <th>volume_bytes</th>\n",
              "      <th>udp_packets</th>\n",
              "      <th>tcp_urg_packet</th>\n",
              "      <th>source_app_packets</th>\n",
              "      <th>remote_app_packets</th>\n",
              "      <th>source_app_bytes</th>\n",
              "      <th>remote_app_bytes</th>\n",
              "      <th>source_app_packets.1</th>\n",
              "      <th>dns_query_times</th>\n",
              "    </tr>\n",
              "  </thead>\n",
              "  <tbody>\n",
              "    <tr>\n",
              "      <th>count</th>\n",
              "      <td>7845.000000</td>\n",
              "      <td>7845.000000</td>\n",
              "      <td>7845.000000</td>\n",
              "      <td>7.845000e+03</td>\n",
              "      <td>7845.000000</td>\n",
              "      <td>7845.000000</td>\n",
              "      <td>7845.000000</td>\n",
              "      <td>7845.000000</td>\n",
              "      <td>7.845000e+03</td>\n",
              "      <td>7.845000e+03</td>\n",
              "      <td>7845.000000</td>\n",
              "      <td>7845.000000</td>\n",
              "    </tr>\n",
              "    <tr>\n",
              "      <th>mean</th>\n",
              "      <td>147.578713</td>\n",
              "      <td>7.738177</td>\n",
              "      <td>2.748502</td>\n",
              "      <td>1.654375e+04</td>\n",
              "      <td>0.056724</td>\n",
              "      <td>0.000255</td>\n",
              "      <td>152.911918</td>\n",
              "      <td>194.706310</td>\n",
              "      <td>2.024967e+05</td>\n",
              "      <td>1.692260e+04</td>\n",
              "      <td>152.911918</td>\n",
              "      <td>4.898917</td>\n",
              "    </tr>\n",
              "    <tr>\n",
              "      <th>std</th>\n",
              "      <td>777.920084</td>\n",
              "      <td>51.654222</td>\n",
              "      <td>2.923005</td>\n",
              "      <td>8.225650e+04</td>\n",
              "      <td>1.394046</td>\n",
              "      <td>0.015966</td>\n",
              "      <td>779.034618</td>\n",
              "      <td>1068.112696</td>\n",
              "      <td>1.401076e+06</td>\n",
              "      <td>8.238182e+04</td>\n",
              "      <td>779.034618</td>\n",
              "      <td>18.900478</td>\n",
              "    </tr>\n",
              "    <tr>\n",
              "      <th>min</th>\n",
              "      <td>0.000000</td>\n",
              "      <td>0.000000</td>\n",
              "      <td>0.000000</td>\n",
              "      <td>0.000000e+00</td>\n",
              "      <td>0.000000</td>\n",
              "      <td>0.000000</td>\n",
              "      <td>1.000000</td>\n",
              "      <td>0.000000</td>\n",
              "      <td>0.000000e+00</td>\n",
              "      <td>6.900000e+01</td>\n",
              "      <td>1.000000</td>\n",
              "      <td>0.000000</td>\n",
              "    </tr>\n",
              "    <tr>\n",
              "      <th>25%</th>\n",
              "      <td>6.000000</td>\n",
              "      <td>0.000000</td>\n",
              "      <td>1.000000</td>\n",
              "      <td>8.880000e+02</td>\n",
              "      <td>0.000000</td>\n",
              "      <td>0.000000</td>\n",
              "      <td>7.000000</td>\n",
              "      <td>7.000000</td>\n",
              "      <td>9.340000e+02</td>\n",
              "      <td>1.046000e+03</td>\n",
              "      <td>7.000000</td>\n",
              "      <td>1.000000</td>\n",
              "    </tr>\n",
              "    <tr>\n",
              "      <th>50%</th>\n",
              "      <td>25.000000</td>\n",
              "      <td>0.000000</td>\n",
              "      <td>2.000000</td>\n",
              "      <td>3.509000e+03</td>\n",
              "      <td>0.000000</td>\n",
              "      <td>0.000000</td>\n",
              "      <td>30.000000</td>\n",
              "      <td>24.000000</td>\n",
              "      <td>4.090000e+03</td>\n",
              "      <td>3.803000e+03</td>\n",
              "      <td>30.000000</td>\n",
              "      <td>3.000000</td>\n",
              "    </tr>\n",
              "    <tr>\n",
              "      <th>75%</th>\n",
              "      <td>93.000000</td>\n",
              "      <td>0.000000</td>\n",
              "      <td>4.000000</td>\n",
              "      <td>1.218900e+04</td>\n",
              "      <td>0.000000</td>\n",
              "      <td>0.000000</td>\n",
              "      <td>98.000000</td>\n",
              "      <td>92.000000</td>\n",
              "      <td>2.624400e+04</td>\n",
              "      <td>1.261000e+04</td>\n",
              "      <td>98.000000</td>\n",
              "      <td>5.000000</td>\n",
              "    </tr>\n",
              "    <tr>\n",
              "      <th>max</th>\n",
              "      <td>37143.000000</td>\n",
              "      <td>2167.000000</td>\n",
              "      <td>43.000000</td>\n",
              "      <td>4.226790e+06</td>\n",
              "      <td>65.000000</td>\n",
              "      <td>1.000000</td>\n",
              "      <td>37150.000000</td>\n",
              "      <td>45928.000000</td>\n",
              "      <td>6.823516e+07</td>\n",
              "      <td>4.227323e+06</td>\n",
              "      <td>37150.000000</td>\n",
              "      <td>913.000000</td>\n",
              "    </tr>\n",
              "  </tbody>\n",
              "</table>\n",
              "</div>\n",
              "    <div class=\"colab-df-buttons\">\n",
              "\n",
              "  <div class=\"colab-df-container\">\n",
              "    <button class=\"colab-df-convert\" onclick=\"convertToInteractive('df-45e638aa-736e-46e7-a002-3d99bc01c5f1')\"\n",
              "            title=\"Convert this dataframe to an interactive table.\"\n",
              "            style=\"display:none;\">\n",
              "\n",
              "  <svg xmlns=\"http://www.w3.org/2000/svg\" height=\"24px\" viewBox=\"0 -960 960 960\">\n",
              "    <path d=\"M120-120v-720h720v720H120Zm60-500h600v-160H180v160Zm220 220h160v-160H400v160Zm0 220h160v-160H400v160ZM180-400h160v-160H180v160Zm440 0h160v-160H620v160ZM180-180h160v-160H180v160Zm440 0h160v-160H620v160Z\"/>\n",
              "  </svg>\n",
              "    </button>\n",
              "\n",
              "  <style>\n",
              "    .colab-df-container {\n",
              "      display:flex;\n",
              "      gap: 12px;\n",
              "    }\n",
              "\n",
              "    .colab-df-convert {\n",
              "      background-color: #E8F0FE;\n",
              "      border: none;\n",
              "      border-radius: 50%;\n",
              "      cursor: pointer;\n",
              "      display: none;\n",
              "      fill: #1967D2;\n",
              "      height: 32px;\n",
              "      padding: 0 0 0 0;\n",
              "      width: 32px;\n",
              "    }\n",
              "\n",
              "    .colab-df-convert:hover {\n",
              "      background-color: #E2EBFA;\n",
              "      box-shadow: 0px 1px 2px rgba(60, 64, 67, 0.3), 0px 1px 3px 1px rgba(60, 64, 67, 0.15);\n",
              "      fill: #174EA6;\n",
              "    }\n",
              "\n",
              "    .colab-df-buttons div {\n",
              "      margin-bottom: 4px;\n",
              "    }\n",
              "\n",
              "    [theme=dark] .colab-df-convert {\n",
              "      background-color: #3B4455;\n",
              "      fill: #D2E3FC;\n",
              "    }\n",
              "\n",
              "    [theme=dark] .colab-df-convert:hover {\n",
              "      background-color: #434B5C;\n",
              "      box-shadow: 0px 1px 3px 1px rgba(0, 0, 0, 0.15);\n",
              "      filter: drop-shadow(0px 1px 2px rgba(0, 0, 0, 0.3));\n",
              "      fill: #FFFFFF;\n",
              "    }\n",
              "  </style>\n",
              "\n",
              "    <script>\n",
              "      const buttonEl =\n",
              "        document.querySelector('#df-45e638aa-736e-46e7-a002-3d99bc01c5f1 button.colab-df-convert');\n",
              "      buttonEl.style.display =\n",
              "        google.colab.kernel.accessAllowed ? 'block' : 'none';\n",
              "\n",
              "      async function convertToInteractive(key) {\n",
              "        const element = document.querySelector('#df-45e638aa-736e-46e7-a002-3d99bc01c5f1');\n",
              "        const dataTable =\n",
              "          await google.colab.kernel.invokeFunction('convertToInteractive',\n",
              "                                                    [key], {});\n",
              "        if (!dataTable) return;\n",
              "\n",
              "        const docLinkHtml = 'Like what you see? Visit the ' +\n",
              "          '<a target=\"_blank\" href=https://colab.research.google.com/notebooks/data_table.ipynb>data table notebook</a>'\n",
              "          + ' to learn more about interactive tables.';\n",
              "        element.innerHTML = '';\n",
              "        dataTable['output_type'] = 'display_data';\n",
              "        await google.colab.output.renderOutput(dataTable, element);\n",
              "        const docLink = document.createElement('div');\n",
              "        docLink.innerHTML = docLinkHtml;\n",
              "        element.appendChild(docLink);\n",
              "      }\n",
              "    </script>\n",
              "  </div>\n",
              "\n",
              "\n",
              "<div id=\"df-93ce4710-5d49-43b7-b70f-3ce4708dde13\">\n",
              "  <button class=\"colab-df-quickchart\" onclick=\"quickchart('df-93ce4710-5d49-43b7-b70f-3ce4708dde13')\"\n",
              "            title=\"Suggest charts\"\n",
              "            style=\"display:none;\">\n",
              "\n",
              "<svg xmlns=\"http://www.w3.org/2000/svg\" height=\"24px\"viewBox=\"0 0 24 24\"\n",
              "     width=\"24px\">\n",
              "    <g>\n",
              "        <path d=\"M19 3H5c-1.1 0-2 .9-2 2v14c0 1.1.9 2 2 2h14c1.1 0 2-.9 2-2V5c0-1.1-.9-2-2-2zM9 17H7v-7h2v7zm4 0h-2V7h2v10zm4 0h-2v-4h2v4z\"/>\n",
              "    </g>\n",
              "</svg>\n",
              "  </button>\n",
              "\n",
              "<style>\n",
              "  .colab-df-quickchart {\n",
              "      --bg-color: #E8F0FE;\n",
              "      --fill-color: #1967D2;\n",
              "      --hover-bg-color: #E2EBFA;\n",
              "      --hover-fill-color: #174EA6;\n",
              "      --disabled-fill-color: #AAA;\n",
              "      --disabled-bg-color: #DDD;\n",
              "  }\n",
              "\n",
              "  [theme=dark] .colab-df-quickchart {\n",
              "      --bg-color: #3B4455;\n",
              "      --fill-color: #D2E3FC;\n",
              "      --hover-bg-color: #434B5C;\n",
              "      --hover-fill-color: #FFFFFF;\n",
              "      --disabled-bg-color: #3B4455;\n",
              "      --disabled-fill-color: #666;\n",
              "  }\n",
              "\n",
              "  .colab-df-quickchart {\n",
              "    background-color: var(--bg-color);\n",
              "    border: none;\n",
              "    border-radius: 50%;\n",
              "    cursor: pointer;\n",
              "    display: none;\n",
              "    fill: var(--fill-color);\n",
              "    height: 32px;\n",
              "    padding: 0;\n",
              "    width: 32px;\n",
              "  }\n",
              "\n",
              "  .colab-df-quickchart:hover {\n",
              "    background-color: var(--hover-bg-color);\n",
              "    box-shadow: 0 1px 2px rgba(60, 64, 67, 0.3), 0 1px 3px 1px rgba(60, 64, 67, 0.15);\n",
              "    fill: var(--button-hover-fill-color);\n",
              "  }\n",
              "\n",
              "  .colab-df-quickchart-complete:disabled,\n",
              "  .colab-df-quickchart-complete:disabled:hover {\n",
              "    background-color: var(--disabled-bg-color);\n",
              "    fill: var(--disabled-fill-color);\n",
              "    box-shadow: none;\n",
              "  }\n",
              "\n",
              "  .colab-df-spinner {\n",
              "    border: 2px solid var(--fill-color);\n",
              "    border-color: transparent;\n",
              "    border-bottom-color: var(--fill-color);\n",
              "    animation:\n",
              "      spin 1s steps(1) infinite;\n",
              "  }\n",
              "\n",
              "  @keyframes spin {\n",
              "    0% {\n",
              "      border-color: transparent;\n",
              "      border-bottom-color: var(--fill-color);\n",
              "      border-left-color: var(--fill-color);\n",
              "    }\n",
              "    20% {\n",
              "      border-color: transparent;\n",
              "      border-left-color: var(--fill-color);\n",
              "      border-top-color: var(--fill-color);\n",
              "    }\n",
              "    30% {\n",
              "      border-color: transparent;\n",
              "      border-left-color: var(--fill-color);\n",
              "      border-top-color: var(--fill-color);\n",
              "      border-right-color: var(--fill-color);\n",
              "    }\n",
              "    40% {\n",
              "      border-color: transparent;\n",
              "      border-right-color: var(--fill-color);\n",
              "      border-top-color: var(--fill-color);\n",
              "    }\n",
              "    60% {\n",
              "      border-color: transparent;\n",
              "      border-right-color: var(--fill-color);\n",
              "    }\n",
              "    80% {\n",
              "      border-color: transparent;\n",
              "      border-right-color: var(--fill-color);\n",
              "      border-bottom-color: var(--fill-color);\n",
              "    }\n",
              "    90% {\n",
              "      border-color: transparent;\n",
              "      border-bottom-color: var(--fill-color);\n",
              "    }\n",
              "  }\n",
              "</style>\n",
              "\n",
              "  <script>\n",
              "    async function quickchart(key) {\n",
              "      const quickchartButtonEl =\n",
              "        document.querySelector('#' + key + ' button');\n",
              "      quickchartButtonEl.disabled = true;  // To prevent multiple clicks.\n",
              "      quickchartButtonEl.classList.add('colab-df-spinner');\n",
              "      try {\n",
              "        const charts = await google.colab.kernel.invokeFunction(\n",
              "            'suggestCharts', [key], {});\n",
              "      } catch (error) {\n",
              "        console.error('Error during call to suggestCharts:', error);\n",
              "      }\n",
              "      quickchartButtonEl.classList.remove('colab-df-spinner');\n",
              "      quickchartButtonEl.classList.add('colab-df-quickchart-complete');\n",
              "    }\n",
              "    (() => {\n",
              "      let quickchartButtonEl =\n",
              "        document.querySelector('#df-93ce4710-5d49-43b7-b70f-3ce4708dde13 button');\n",
              "      quickchartButtonEl.style.display =\n",
              "        google.colab.kernel.accessAllowed ? 'block' : 'none';\n",
              "    })();\n",
              "  </script>\n",
              "</div>\n",
              "    </div>\n",
              "  </div>\n"
            ]
          },
          "metadata": {},
          "execution_count": 5
        }
      ],
      "source": [
        "# Describe data\n",
        "df.describe()"
      ]
    },
    {
      "cell_type": "code",
      "execution_count": null,
      "id": "1d8c524b",
      "metadata": {
        "id": "1d8c524b"
      },
      "outputs": [],
      "source": [
        "# Encode categorical variable 'name'\n",
        "df_encoded = pd.get_dummies(df, columns=['name'], drop_first=True)"
      ]
    },
    {
      "cell_type": "markdown",
      "source": [
        "The data is split into independent ('X') and dependent ('y') variables preparing it for the *training and testing* phases. It utilizes the **train_test_split** function from scikit-learn."
      ],
      "metadata": {
        "id": "4ZgFdH_XDJ3_"
      },
      "id": "4ZgFdH_XDJ3_"
    },
    {
      "cell_type": "code",
      "execution_count": null,
      "id": "2018dbfe",
      "metadata": {
        "id": "2018dbfe"
      },
      "outputs": [],
      "source": [
        "# Split data into dependent/independent variables\n",
        "X = df_encoded.drop(columns=['type']).values  # Independent variables\n",
        "y = df_encoded['type'].values  # Dependent variable"
      ]
    },
    {
      "cell_type": "code",
      "execution_count": null,
      "id": "2796e393",
      "metadata": {
        "id": "2796e393"
      },
      "outputs": [],
      "source": [
        "# Split data into test/train set\n",
        "X_train, X_test, y_train, y_test = train_test_split(X, y, test_size = 0.25, random_state = True)"
      ]
    },
    {
      "cell_type": "markdown",
      "source": [
        "The scale dataset is standardized by scaling its features using **StandardScaler()** from scikit-learn to ensure uniformity and improved model performance."
      ],
      "metadata": {
        "id": "JqdV3FzBDfPu"
      },
      "id": "JqdV3FzBDfPu"
    },
    {
      "cell_type": "code",
      "execution_count": null,
      "id": "bbf11c55",
      "metadata": {
        "id": "bbf11c55"
      },
      "outputs": [],
      "source": [
        " # Scale dataset\n",
        "sc = StandardScaler()\n",
        "X_train = sc.fit_transform(X_train)\n",
        "X_test = sc.transform(X_test)"
      ]
    },
    {
      "cell_type": "markdown",
      "source": [
        "Then, we creates a Naive Bayes classifier and fits it to the training data."
      ],
      "metadata": {
        "id": "r8X2ahvaIP1B"
      },
      "id": "r8X2ahvaIP1B"
    },
    {
      "cell_type": "code",
      "execution_count": null,
      "id": "5cc99abe",
      "metadata": {
        "colab": {
          "base_uri": "https://localhost:8080/",
          "height": 74
        },
        "id": "5cc99abe",
        "outputId": "0bad0a65-32f4-47c5-8c65-943ba0183ae9"
      },
      "outputs": [
        {
          "output_type": "execute_result",
          "data": {
            "text/plain": [
              "GaussianNB()"
            ],
            "text/html": [
              "<style>#sk-container-id-1 {color: black;background-color: white;}#sk-container-id-1 pre{padding: 0;}#sk-container-id-1 div.sk-toggleable {background-color: white;}#sk-container-id-1 label.sk-toggleable__label {cursor: pointer;display: block;width: 100%;margin-bottom: 0;padding: 0.3em;box-sizing: border-box;text-align: center;}#sk-container-id-1 label.sk-toggleable__label-arrow:before {content: \"▸\";float: left;margin-right: 0.25em;color: #696969;}#sk-container-id-1 label.sk-toggleable__label-arrow:hover:before {color: black;}#sk-container-id-1 div.sk-estimator:hover label.sk-toggleable__label-arrow:before {color: black;}#sk-container-id-1 div.sk-toggleable__content {max-height: 0;max-width: 0;overflow: hidden;text-align: left;background-color: #f0f8ff;}#sk-container-id-1 div.sk-toggleable__content pre {margin: 0.2em;color: black;border-radius: 0.25em;background-color: #f0f8ff;}#sk-container-id-1 input.sk-toggleable__control:checked~div.sk-toggleable__content {max-height: 200px;max-width: 100%;overflow: auto;}#sk-container-id-1 input.sk-toggleable__control:checked~label.sk-toggleable__label-arrow:before {content: \"▾\";}#sk-container-id-1 div.sk-estimator input.sk-toggleable__control:checked~label.sk-toggleable__label {background-color: #d4ebff;}#sk-container-id-1 div.sk-label input.sk-toggleable__control:checked~label.sk-toggleable__label {background-color: #d4ebff;}#sk-container-id-1 input.sk-hidden--visually {border: 0;clip: rect(1px 1px 1px 1px);clip: rect(1px, 1px, 1px, 1px);height: 1px;margin: -1px;overflow: hidden;padding: 0;position: absolute;width: 1px;}#sk-container-id-1 div.sk-estimator {font-family: monospace;background-color: #f0f8ff;border: 1px dotted black;border-radius: 0.25em;box-sizing: border-box;margin-bottom: 0.5em;}#sk-container-id-1 div.sk-estimator:hover {background-color: #d4ebff;}#sk-container-id-1 div.sk-parallel-item::after {content: \"\";width: 100%;border-bottom: 1px solid gray;flex-grow: 1;}#sk-container-id-1 div.sk-label:hover label.sk-toggleable__label {background-color: #d4ebff;}#sk-container-id-1 div.sk-serial::before {content: \"\";position: absolute;border-left: 1px solid gray;box-sizing: border-box;top: 0;bottom: 0;left: 50%;z-index: 0;}#sk-container-id-1 div.sk-serial {display: flex;flex-direction: column;align-items: center;background-color: white;padding-right: 0.2em;padding-left: 0.2em;position: relative;}#sk-container-id-1 div.sk-item {position: relative;z-index: 1;}#sk-container-id-1 div.sk-parallel {display: flex;align-items: stretch;justify-content: center;background-color: white;position: relative;}#sk-container-id-1 div.sk-item::before, #sk-container-id-1 div.sk-parallel-item::before {content: \"\";position: absolute;border-left: 1px solid gray;box-sizing: border-box;top: 0;bottom: 0;left: 50%;z-index: -1;}#sk-container-id-1 div.sk-parallel-item {display: flex;flex-direction: column;z-index: 1;position: relative;background-color: white;}#sk-container-id-1 div.sk-parallel-item:first-child::after {align-self: flex-end;width: 50%;}#sk-container-id-1 div.sk-parallel-item:last-child::after {align-self: flex-start;width: 50%;}#sk-container-id-1 div.sk-parallel-item:only-child::after {width: 0;}#sk-container-id-1 div.sk-dashed-wrapped {border: 1px dashed gray;margin: 0 0.4em 0.5em 0.4em;box-sizing: border-box;padding-bottom: 0.4em;background-color: white;}#sk-container-id-1 div.sk-label label {font-family: monospace;font-weight: bold;display: inline-block;line-height: 1.2em;}#sk-container-id-1 div.sk-label-container {text-align: center;}#sk-container-id-1 div.sk-container {/* jupyter's `normalize.less` sets `[hidden] { display: none; }` but bootstrap.min.css set `[hidden] { display: none !important; }` so we also need the `!important` here to be able to override the default hidden behavior on the sphinx rendered scikit-learn.org. See: https://github.com/scikit-learn/scikit-learn/issues/21755 */display: inline-block !important;position: relative;}#sk-container-id-1 div.sk-text-repr-fallback {display: none;}</style><div id=\"sk-container-id-1\" class=\"sk-top-container\"><div class=\"sk-text-repr-fallback\"><pre>GaussianNB()</pre><b>In a Jupyter environment, please rerun this cell to show the HTML representation or trust the notebook. <br />On GitHub, the HTML representation is unable to render, please try loading this page with nbviewer.org.</b></div><div class=\"sk-container\" hidden><div class=\"sk-item\"><div class=\"sk-estimator sk-toggleable\"><input class=\"sk-toggleable__control sk-hidden--visually\" id=\"sk-estimator-id-1\" type=\"checkbox\" checked><label for=\"sk-estimator-id-1\" class=\"sk-toggleable__label sk-toggleable__label-arrow\">GaussianNB</label><div class=\"sk-toggleable__content\"><pre>GaussianNB()</pre></div></div></div></div></div>"
            ]
          },
          "metadata": {},
          "execution_count": 10
        }
      ],
      "source": [
        "# Classifier\n",
        "classifier = GaussianNB()\n",
        "classifier.fit(X_train, y_train)"
      ]
    },
    {
      "cell_type": "markdown",
      "source": [
        "Next, we prints the predicted values alongside the actual values."
      ],
      "metadata": {
        "id": "2I7_EsCDI7r-"
      },
      "id": "2I7_EsCDI7r-"
    },
    {
      "cell_type": "code",
      "execution_count": null,
      "id": "2f981def",
      "metadata": {
        "colab": {
          "base_uri": "https://localhost:8080/"
        },
        "id": "2f981def",
        "outputId": "1bcc73a4-5d0e-47ab-ce1d-80265e1fad7d"
      },
      "outputs": [
        {
          "output_type": "stream",
          "name": "stdout",
          "text": [
            "[['malicious' 'malicious']\n",
            " ['malicious' 'malicious']\n",
            " ['benign' 'benign']\n",
            " ...\n",
            " ['malicious' 'malicious']\n",
            " ['benign' 'benign']\n",
            " ['benign' 'benign']]\n"
          ]
        }
      ],
      "source": [
        "# Prediction\n",
        "y_pred = classifier.predict(X_test)\n",
        "print(np.concatenate((y_pred.reshape(len(y_pred), 1), y_test.reshape(len(y_test), 1)), 1))"
      ]
    },
    {
      "cell_type": "code",
      "execution_count": null,
      "id": "283ba1a8",
      "metadata": {
        "colab": {
          "base_uri": "https://localhost:8080/"
        },
        "id": "283ba1a8",
        "outputId": "2c0a8775-9edc-4d26-cb96-7dc270db4296"
      },
      "outputs": [
        {
          "output_type": "stream",
          "name": "stdout",
          "text": [
            "Actual Value: benign\n",
            "Predicted Value: malicious\n"
          ]
        }
      ],
      "source": [
        "print(\"Actual Value:\", y_test[6])\n",
        "print(\"Predicted Value:\", y_pred[0])"
      ]
    },
    {
      "cell_type": "markdown",
      "source": [
        "The accuracy of the model is calculated using scikit-learn's **accuracy_score()** and printed."
      ],
      "metadata": {
        "id": "3XEBoDvIGSsl"
      },
      "id": "3XEBoDvIGSsl"
    },
    {
      "cell_type": "code",
      "execution_count": null,
      "id": "6116ef63",
      "metadata": {
        "colab": {
          "base_uri": "https://localhost:8080/"
        },
        "id": "6116ef63",
        "outputId": "9a8b344d-e1cf-4726-dde6-b9c7be9e2d1b"
      },
      "outputs": [
        {
          "output_type": "stream",
          "name": "stdout",
          "text": [
            "Accuracy: 0.9959225280326198\n"
          ]
        }
      ],
      "source": [
        "# Evaluation Metrics\n",
        "accuracy = accuracy_score(y_test, y_pred)\n",
        "print(f'Accuracy: {accuracy}')"
      ]
    },
    {
      "cell_type": "markdown",
      "source": [
        "A detailed classification_report is generated using scikit-learn's **classification_report()**, providing precision, recall, and F1-score for each class."
      ],
      "metadata": {
        "id": "ocv8AJGhGgt2"
      },
      "id": "ocv8AJGhGgt2"
    },
    {
      "cell_type": "code",
      "execution_count": null,
      "id": "5c0fa75d",
      "metadata": {
        "colab": {
          "base_uri": "https://localhost:8080/"
        },
        "id": "5c0fa75d",
        "outputId": "b75aed80-c0a4-43cd-fceb-4337ad8ef480"
      },
      "outputs": [
        {
          "output_type": "stream",
          "name": "stdout",
          "text": [
            "Naive Bayes\n",
            "Classification Report: \n",
            "              precision    recall  f1-score   support\n",
            "\n",
            "      benign       0.99      1.00      1.00      1184\n",
            "   malicious       1.00      0.99      0.99       778\n",
            "\n",
            "    accuracy                           1.00      1962\n",
            "   macro avg       1.00      0.99      1.00      1962\n",
            "weighted avg       1.00      1.00      1.00      1962\n",
            "\n"
          ]
        }
      ],
      "source": [
        "# Classification Report\n",
        "print(\"Naive Bayes\")\n",
        "print(f'Classification Report: \\n{classification_report(y_test, y_pred)}')"
      ]
    },
    {
      "cell_type": "markdown",
      "source": [
        "The weighted F1 score is calculated and printed as an additional metric for model evaluation."
      ],
      "metadata": {
        "id": "AlljlIEyGyvB"
      },
      "id": "AlljlIEyGyvB"
    },
    {
      "cell_type": "code",
      "execution_count": null,
      "id": "535cd9e9",
      "metadata": {
        "colab": {
          "base_uri": "https://localhost:8080/"
        },
        "id": "535cd9e9",
        "outputId": "23de3c2e-9f7b-44a8-89c1-1135eb42fcf9"
      },
      "outputs": [
        {
          "output_type": "stream",
          "name": "stdout",
          "text": [
            "F1 Score : 0.9959188563602664\n"
          ]
        }
      ],
      "source": [
        "# F1 score\n",
        "print(f\"F1 Score : {f1_score(y_test, y_pred, average='weighted')}\")"
      ]
    },
    {
      "cell_type": "code",
      "execution_count": null,
      "id": "0b51781f",
      "metadata": {
        "colab": {
          "base_uri": "https://localhost:8080/",
          "height": 447
        },
        "id": "0b51781f",
        "outputId": "ce0da38a-6b53-46f8-e291-3d564849bcf8"
      },
      "outputs": [
        {
          "output_type": "execute_result",
          "data": {
            "text/plain": [
              "<Axes: >"
            ]
          },
          "metadata": {},
          "execution_count": 16
        },
        {
          "output_type": "display_data",
          "data": {
            "text/plain": [
              "<Figure size 640x480 with 1 Axes>"
            ],
            "image/png": "[encoded data removed]"
          },
          "metadata": {}
        }
      ],
      "source": [
        "# Confusion matrix\n",
        "cf_matrix = confusion_matrix(y_test, y_pred)\n",
        "sns.heatmap(cf_matrix, annot=True, fmt='d', cmap='Blues', cbar=False)"
      ]
    },
    {
      "cell_type": "code",
      "execution_count": null,
      "id": "bc4d8693",
      "metadata": {
        "colab": {
          "base_uri": "https://localhost:8080/",
          "height": 449
        },
        "id": "bc4d8693",
        "outputId": "d5cd9550-805b-49a9-bdeb-3ee1ca0ef1a0"
      },
      "outputs": [
        {
          "output_type": "display_data",
          "data": {
            "text/plain": [
              "<Figure size 640x480 with 2 Axes>"
            ],
            "image/png": "[encoded data removed]"
          },
          "metadata": {}
        }
      ],
      "source": [
        "labels = [0,1]\n",
        "disp = ConfusionMatrixDisplay(confusion_matrix=cf_matrix, display_labels=labels)\n",
        "disp.plot();"
      ]
    },
    {
      "cell_type": "markdown",
      "source": [
        "Multi-class labels are converted to binary format using **LabelBinarizer()** for further analysis."
      ],
      "metadata": {
        "id": "WZWdJs52HJbN"
      },
      "id": "WZWdJs52HJbN"
    },
    {
      "cell_type": "code",
      "execution_count": null,
      "id": "49c54d5e",
      "metadata": {
        "id": "49c54d5e"
      },
      "outputs": [],
      "source": [
        "# Convert multi-class labels to binary\n",
        "lb = LabelBinarizer()\n",
        "y_test_bin = lb.fit_transform(y_test)"
      ]
    },
    {
      "cell_type": "markdown",
      "source": [
        "A Precision-Recall Curve is plotted to illustrate the trade-off between precision and recall, crucial for understanding model performance across different thresholds."
      ],
      "metadata": {
        "id": "sN_l9VgpHPuQ"
      },
      "id": "sN_l9VgpHPuQ"
    },
    {
      "cell_type": "code",
      "execution_count": null,
      "id": "a88a616f",
      "metadata": {
        "colab": {
          "base_uri": "https://localhost:8080/",
          "height": 564
        },
        "id": "a88a616f",
        "outputId": "82a0a176-9468-4d5d-c3d9-a889c09eafd2"
      },
      "outputs": [
        {
          "output_type": "display_data",
          "data": {
            "text/plain": [
              "<Figure size 600x600 with 1 Axes>"
            ],
            "image/png": "[encoded data removed]"
          },
          "metadata": {}
        }
      ],
      "source": [
        "# Plot Precision-Recall Curve\n",
        "y_pred_proba = classifier.predict_proba(X_test)[:, 1]\n",
        "precision, recall, thresholds = precision_recall_curve(y_test_bin, y_pred_proba)\n",
        "\n",
        "fig, ax = plt.subplots(figsize=(6, 6))\n",
        "ax.plot(recall, precision, label='Naive Bayes Classification', color='firebrick')\n",
        "ax.set_title('Precision-Recall Curve')\n",
        "ax.set_xlabel('Recall')\n",
        "ax.set_ylabel('Precision')\n",
        "plt.box(False)\n",
        "ax.legend();"
      ]
    },
    {
      "cell_type": "markdown",
      "source": [
        "An AUC/ROC Curve is plotted to visualize the trade-off between the false positive rate and true positive rate, providing insights into the classifier's discriminatory ability."
      ],
      "metadata": {
        "id": "qE2vQsV1HZiX"
      },
      "id": "qE2vQsV1HZiX"
    },
    {
      "cell_type": "code",
      "execution_count": null,
      "id": "98980d10",
      "metadata": {
        "colab": {
          "base_uri": "https://localhost:8080/",
          "height": 564
        },
        "id": "98980d10",
        "outputId": "de859c06-35fd-4bf0-d02d-20598506b461"
      },
      "outputs": [
        {
          "output_type": "display_data",
          "data": {
            "text/plain": [
              "<Figure size 600x600 with 1 Axes>"
            ],
            "image/png": "[encoded data removed]"
          },
          "metadata": {}
        }
      ],
      "source": [
        "# Plot AUC/ROC curve\n",
        "y_pred_proba = classifier.predict_proba(X_test)[:, 1]\n",
        "fpr, tpr, thresholds = metrics.roc_curve(y_test_bin, y_pred_proba)\n",
        "\n",
        "fig, ax = plt.subplots(figsize=(6, 6))\n",
        "ax.plot(fpr, tpr, label='Naive Bayes Classification', color='firebrick')\n",
        "ax.set_title('ROC Curve')\n",
        "ax.set_xlabel('False Positive Rate')\n",
        "ax.set_ylabel('True Positive Rate')\n",
        "plt.box(False)\n",
        "ax.legend();"
      ]
    },
    {
      "cell_type": "markdown",
      "source": [
        "Then, we creates a distribution plot for the 'tcp_urg_packet' column using **Seaborn**."
      ],
      "metadata": {
        "id": "BjE7Ex0iHu7O"
      },
      "id": "BjE7Ex0iHu7O"
    },
    {
      "cell_type": "code",
      "execution_count": null,
      "id": "a750f094",
      "metadata": {
        "colab": {
          "base_uri": "https://localhost:8080/",
          "height": 658
        },
        "id": "a750f094",
        "outputId": "eb1b1e8a-00ab-4c5e-8dcd-50729aabeda2"
      },
      "outputs": [
        {
          "output_type": "stream",
          "name": "stderr",
          "text": [
            "<ipython-input-21-daa039fa8199>:2: UserWarning: \n",
            "\n",
            "`distplot` is a deprecated function and will be removed in seaborn v0.14.0.\n",
            "\n",
            "Please adapt your code to use either `displot` (a figure-level function with\n",
            "similar flexibility) or `histplot` (an axes-level function for histograms).\n",
            "\n",
            "For a guide to updating your code to use the new functions, please see\n",
            "https://gist.github.com/mwaskom/de44147ed2974457ad6372750bbe5751\n",
            "\n",
            "  sns.distplot(df['tcp_urg_packet'])\n"
          ]
        },
        {
          "output_type": "execute_result",
          "data": {
            "text/plain": [
              "<Axes: xlabel='tcp_urg_packet', ylabel='Density'>"
            ]
          },
          "metadata": {},
          "execution_count": 21
        },
        {
          "output_type": "display_data",
          "data": {
            "text/plain": [
              "<Figure size 640x480 with 1 Axes>"
            ],
            "image/png": "[encoded data removed]"
          },
          "metadata": {}
        }
      ],
      "source": [
        "# Volume distribution\n",
        "sns.distplot(df['tcp_urg_packet'])"
      ]
    },
    {
      "cell_type": "markdown",
      "source": [
        "The correlation matrix is computed using **corr()**, and a heatmap is plotted using **seaborn** to visualize the correlation between different features."
      ],
      "metadata": {
        "id": "dWAT4KOLC7G3"
      },
      "id": "dWAT4KOLC7G3"
    },
    {
      "cell_type": "code",
      "execution_count": null,
      "id": "12343b1b",
      "metadata": {
        "colab": {
          "base_uri": "https://localhost:8080/",
          "height": 682
        },
        "id": "12343b1b",
        "outputId": "79004f78-ab7c-4b6e-f239-a99a95a5bd02"
      },
      "outputs": [
        {
          "output_type": "stream",
          "name": "stderr",
          "text": [
            "<ipython-input-22-f759a636d656>:2: FutureWarning: The default value of numeric_only in DataFrame.corr is deprecated. In a future version, it will default to False. Select only valid columns or specify the value of numeric_only to silence this warning.\n",
            "  df.corr()\n",
            "<ipython-input-22-f759a636d656>:3: FutureWarning: The default value of numeric_only in DataFrame.corr is deprecated. In a future version, it will default to False. Select only valid columns or specify the value of numeric_only to silence this warning.\n",
            "  sns.heatmap(df.corr())\n"
          ]
        },
        {
          "output_type": "execute_result",
          "data": {
            "text/plain": [
              "<Axes: >"
            ]
          },
          "metadata": {},
          "execution_count": 22
        },
        {
          "output_type": "display_data",
          "data": {
            "text/plain": [
              "<Figure size 640x480 with 2 Axes>"
            ],
            "image/png": "[encoded data removed]"
          },
          "metadata": {}
        }
      ],
      "source": [
        "# Correlation matrix\n",
        "df.corr()\n",
        "sns.heatmap(df.corr())"
      ]
    }
  ],
  "metadata": {
    "kernelspec": {
      "display_name": "Python 3 (ipykernel)",
      "language": "python",
      "name": "python3"
    },
    "language_info": {
      "codemirror_mode": {
        "name": "ipython",
        "version": 3
      },
      "file_extension": ".py",
      "mimetype": "text/x-python",
      "name": "python",
      "nbconvert_exporter": "python",
      "pygments_lexer": "ipython3",
      "version": "3.11.5"
    },
    "colab": {
      "provenance": [],
      "include_colab_link": true
    }
  },
  "nbformat": 4,
  "nbformat_minor": 5
}