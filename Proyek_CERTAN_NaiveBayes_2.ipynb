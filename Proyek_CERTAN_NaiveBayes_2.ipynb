{
  "cells": [
    {
      "cell_type": "markdown",
      "metadata": {
        "id": "view-in-github",
        "colab_type": "text"
      },
      "source": [
        "<a href=\"https://colab.research.google.com/github/agnestsiburian/Proyek-CERTAN-NaiveBayes-G2/blob/main/Proyek_CERTAN_NaiveBayes_2.ipynb\" target=\"_parent\"><img src=\"https://colab.research.google.com/assets/colab-badge.svg\" alt=\"Open In Colab\"/></a>"
      ]
    },
    {
      "cell_type": "markdown",
      "id": "9360e2bf",
      "metadata": {
        "id": "9360e2bf"
      },
      "source": [
        "# <center>Pengembangan Model untuk Mengklasifikasi Malware Menggunakan Algoritma Naive Bayes</center>"
      ]
    },
    {
      "cell_type": "markdown",
      "id": "29fd0e87",
      "metadata": {
        "id": "29fd0e87"
      },
      "source": [
        "## Catatan Kerja Praktikum\n",
        "\n",
        "<table align=\"left\" style=\"font-family: sans-serif; font-size: 14px;\">\n",
        "    <tr>\n",
        "        <td style=\"text-align:left\">Kode Mata Kuliah</td>\n",
        "        <td style=\"text-align:left\">:</td>\n",
        "        <td style=\"text-align:left\">10S3001</td>\n",
        "    </tr>\n",
        "    <tr>\n",
        "        <td style=\"text-align:left\">Nama Mata Kuliah</td>\n",
        "        <td style=\"text-align:left\">:</td>\n",
        "        <td style=\"text-align:left\">Kecerdasan Buatan</td>\n",
        "    </tr>\n",
        "    <tr>\n",
        "        <td style=\"text-align:left\">Topik</td>\n",
        "        <td style=\"text-align:left\">:</td>\n",
        "        <td style=\"text-align:left\"><i>Penggunaan Naive Bayes dalam Klasifikasi Malware</i></td>\n",
        "    </tr>\n",
        "    <tr>\n",
        "        <td style=\"text-align:left\">Kelompok</td>\n",
        "        <td style=\"text-align:left\">:</td>\n",
        "        <td style=\"text-align:left\"><i>02</i></td>\n",
        "    </tr>\n",
        "    <tr>\n",
        "        <td style=\"text-align:left\">Anggota Kelompok</td>\n",
        "        <td style=\"text-align:left\">:</td>\n",
        "        <td style=\"text-align:left\" colspan=\"3\">\n",
        "            <i> 12S21040 Christina Putri Hutahaean </i><br>\n",
        "            <i> 12S21057 Agnes Theresia Siburian </i><br>\n",
        "            <i> 12S21059 Tio Manalu </i><br>\n",
        "            <i> 12S21060 Glory Natasya Hutahaean </i>\n",
        "        </td>\n",
        "    </tr>\n",
        "</table>"
      ]
    },
    {
      "cell_type": "markdown",
      "id": "71103a23",
      "metadata": {
        "id": "71103a23"
      },
      "source": [
        "## Implementasi"
      ]
    },
    {
      "cell_type": "markdown",
      "id": "ec586e15",
      "metadata": {
        "id": "ec586e15"
      },
      "source": [
        "First, import all the required libraries, including pandas for data manipulation, numpy for numerical operations, and scikit-learn for machine learning tasks. Matplotlib and seaborn are used for data visualization, and specific modules like LabelEncoder, StandardScaler, and GaussianNB are imported for preprocessing, model evaluation, and classification.\n",
        "\n"
      ]
    },
    {
      "cell_type": "code",
      "execution_count": null,
      "id": "f88cee15",
      "metadata": {
        "id": "f88cee15"
      },
      "outputs": [],
      "source": [
        "# Import libraries\n",
        "\n",
        "# Standard Libraries\n",
        "import pandas as pd\n",
        "import numpy as np\n",
        "import matplotlib.pyplot as plt\n",
        "from matplotlib.colors import ListedColormap\n",
        "import seaborn as sns\n",
        "\n",
        "# Scikit-learn Libraries\n",
        "from sklearn.preprocessing import LabelEncoder\n",
        "from sklearn.preprocessing import StandardScaler\n",
        "from sklearn.preprocessing import LabelBinarizer\n",
        "from sklearn.model_selection import train_test_split\n",
        "from sklearn.naive_bayes import GaussianNB\n",
        "from sklearn import metrics\n",
        "from sklearn.metrics import accuracy_score\n",
        "from sklearn.metrics import classification_report\n",
        "from sklearn.metrics import precision_recall_curve\n",
        "from sklearn.metrics import confusion_matrix\n",
        "from sklearn.metrics import ConfusionMatrixDisplay\n",
        "from sklearn.metrics import f1_score"
      ]
    },
    {
      "cell_type": "markdown",
      "id": "c3d39a76",
      "metadata": {
        "id": "c3d39a76"
      },
      "source": [
        "Now, we will read the CSV file as our dataset ('android_traffic1.csv') using pandas, displaying the first few rows to provide an initial overview of the data.\n",
        "\n"
      ]
    },
    {
      "cell_type": "code",
      "execution_count": null,
      "id": "72e5bcfa",
      "metadata": {
        "id": "72e5bcfa",
        "outputId": "b8e021b1-4568-4289-9095-7c5f72bdf0ca",
        "colab": {
          "base_uri": "https://localhost:8080/",
          "height": 356
        }
      },
      "outputs": [
        {
          "output_type": "error",
          "ename": "FileNotFoundError",
          "evalue": "ignored",
          "traceback": [
            "\u001b[0;31m---------------------------------------------------------------------------\u001b[0m",
            "\u001b[0;31mFileNotFoundError\u001b[0m                         Traceback (most recent call last)",
            "\u001b[0;32m<ipython-input-3-230cc0b65da6>\u001b[0m in \u001b[0;36m<cell line: 2>\u001b[0;34m()\u001b[0m\n\u001b[1;32m      1\u001b[0m \u001b[0;31m# Read dataset\u001b[0m\u001b[0;34m\u001b[0m\u001b[0;34m\u001b[0m\u001b[0m\n\u001b[0;32m----> 2\u001b[0;31m \u001b[0mdf\u001b[0m \u001b[0;34m=\u001b[0m \u001b[0mpd\u001b[0m\u001b[0;34m.\u001b[0m\u001b[0mread_csv\u001b[0m\u001b[0;34m(\u001b[0m\u001b[0;34m'android_traffic1.csv'\u001b[0m\u001b[0;34m,\u001b[0m \u001b[0msep\u001b[0m\u001b[0;34m=\u001b[0m\u001b[0;34m';'\u001b[0m\u001b[0;34m)\u001b[0m\u001b[0;34m\u001b[0m\u001b[0;34m\u001b[0m\u001b[0m\n\u001b[0m\u001b[1;32m      3\u001b[0m \u001b[0mdf\u001b[0m\u001b[0;34m.\u001b[0m\u001b[0mhead\u001b[0m\u001b[0;34m(\u001b[0m\u001b[0;34m)\u001b[0m\u001b[0;34m\u001b[0m\u001b[0;34m\u001b[0m\u001b[0m\n",
            "\u001b[0;32m/usr/local/lib/python3.10/dist-packages/pandas/util/_decorators.py\u001b[0m in \u001b[0;36mwrapper\u001b[0;34m(*args, **kwargs)\u001b[0m\n\u001b[1;32m    209\u001b[0m                 \u001b[0;32melse\u001b[0m\u001b[0;34m:\u001b[0m\u001b[0;34m\u001b[0m\u001b[0;34m\u001b[0m\u001b[0m\n\u001b[1;32m    210\u001b[0m                     \u001b[0mkwargs\u001b[0m\u001b[0;34m[\u001b[0m\u001b[0mnew_arg_name\u001b[0m\u001b[0;34m]\u001b[0m \u001b[0;34m=\u001b[0m \u001b[0mnew_arg_value\u001b[0m\u001b[0;34m\u001b[0m\u001b[0;34m\u001b[0m\u001b[0m\n\u001b[0;32m--> 211\u001b[0;31m             \u001b[0;32mreturn\u001b[0m \u001b[0mfunc\u001b[0m\u001b[0;34m(\u001b[0m\u001b[0;34m*\u001b[0m\u001b[0margs\u001b[0m\u001b[0;34m,\u001b[0m \u001b[0;34m**\u001b[0m\u001b[0mkwargs\u001b[0m\u001b[0;34m)\u001b[0m\u001b[0;34m\u001b[0m\u001b[0;34m\u001b[0m\u001b[0m\n\u001b[0m\u001b[1;32m    212\u001b[0m \u001b[0;34m\u001b[0m\u001b[0m\n\u001b[1;32m    213\u001b[0m         \u001b[0;32mreturn\u001b[0m \u001b[0mcast\u001b[0m\u001b[0;34m(\u001b[0m\u001b[0mF\u001b[0m\u001b[0;34m,\u001b[0m \u001b[0mwrapper\u001b[0m\u001b[0;34m)\u001b[0m\u001b[0;34m\u001b[0m\u001b[0;34m\u001b[0m\u001b[0m\n",
            "\u001b[0;32m/usr/local/lib/python3.10/dist-packages/pandas/util/_decorators.py\u001b[0m in \u001b[0;36mwrapper\u001b[0;34m(*args, **kwargs)\u001b[0m\n\u001b[1;32m    329\u001b[0m                     \u001b[0mstacklevel\u001b[0m\u001b[0;34m=\u001b[0m\u001b[0mfind_stack_level\u001b[0m\u001b[0;34m(\u001b[0m\u001b[0;34m)\u001b[0m\u001b[0;34m,\u001b[0m\u001b[0;34m\u001b[0m\u001b[0;34m\u001b[0m\u001b[0m\n\u001b[1;32m    330\u001b[0m                 )\n\u001b[0;32m--> 331\u001b[0;31m             \u001b[0;32mreturn\u001b[0m \u001b[0mfunc\u001b[0m\u001b[0;34m(\u001b[0m\u001b[0;34m*\u001b[0m\u001b[0margs\u001b[0m\u001b[0;34m,\u001b[0m \u001b[0;34m**\u001b[0m\u001b[0mkwargs\u001b[0m\u001b[0;34m)\u001b[0m\u001b[0;34m\u001b[0m\u001b[0;34m\u001b[0m\u001b[0m\n\u001b[0m\u001b[1;32m    332\u001b[0m \u001b[0;34m\u001b[0m\u001b[0m\n\u001b[1;32m    333\u001b[0m         \u001b[0;31m# error: \"Callable[[VarArg(Any), KwArg(Any)], Any]\" has no\u001b[0m\u001b[0;34m\u001b[0m\u001b[0;34m\u001b[0m\u001b[0m\n",
            "\u001b[0;32m/usr/local/lib/python3.10/dist-packages/pandas/io/parsers/readers.py\u001b[0m in \u001b[0;36mread_csv\u001b[0;34m(filepath_or_buffer, sep, delimiter, header, names, index_col, usecols, squeeze, prefix, mangle_dupe_cols, dtype, engine, converters, true_values, false_values, skipinitialspace, skiprows, skipfooter, nrows, na_values, keep_default_na, na_filter, verbose, skip_blank_lines, parse_dates, infer_datetime_format, keep_date_col, date_parser, dayfirst, cache_dates, iterator, chunksize, compression, thousands, decimal, lineterminator, quotechar, quoting, doublequote, escapechar, comment, encoding, encoding_errors, dialect, error_bad_lines, warn_bad_lines, on_bad_lines, delim_whitespace, low_memory, memory_map, float_precision, storage_options)\u001b[0m\n\u001b[1;32m    948\u001b[0m     \u001b[0mkwds\u001b[0m\u001b[0;34m.\u001b[0m\u001b[0mupdate\u001b[0m\u001b[0;34m(\u001b[0m\u001b[0mkwds_defaults\u001b[0m\u001b[0;34m)\u001b[0m\u001b[0;34m\u001b[0m\u001b[0;34m\u001b[0m\u001b[0m\n\u001b[1;32m    949\u001b[0m \u001b[0;34m\u001b[0m\u001b[0m\n\u001b[0;32m--> 950\u001b[0;31m     \u001b[0;32mreturn\u001b[0m \u001b[0m_read\u001b[0m\u001b[0;34m(\u001b[0m\u001b[0mfilepath_or_buffer\u001b[0m\u001b[0;34m,\u001b[0m \u001b[0mkwds\u001b[0m\u001b[0;34m)\u001b[0m\u001b[0;34m\u001b[0m\u001b[0;34m\u001b[0m\u001b[0m\n\u001b[0m\u001b[1;32m    951\u001b[0m \u001b[0;34m\u001b[0m\u001b[0m\n\u001b[1;32m    952\u001b[0m \u001b[0;34m\u001b[0m\u001b[0m\n",
            "\u001b[0;32m/usr/local/lib/python3.10/dist-packages/pandas/io/parsers/readers.py\u001b[0m in \u001b[0;36m_read\u001b[0;34m(filepath_or_buffer, kwds)\u001b[0m\n\u001b[1;32m    603\u001b[0m \u001b[0;34m\u001b[0m\u001b[0m\n\u001b[1;32m    604\u001b[0m     \u001b[0;31m# Create the parser.\u001b[0m\u001b[0;34m\u001b[0m\u001b[0;34m\u001b[0m\u001b[0m\n\u001b[0;32m--> 605\u001b[0;31m     \u001b[0mparser\u001b[0m \u001b[0;34m=\u001b[0m \u001b[0mTextFileReader\u001b[0m\u001b[0;34m(\u001b[0m\u001b[0mfilepath_or_buffer\u001b[0m\u001b[0;34m,\u001b[0m \u001b[0;34m**\u001b[0m\u001b[0mkwds\u001b[0m\u001b[0;34m)\u001b[0m\u001b[0;34m\u001b[0m\u001b[0;34m\u001b[0m\u001b[0m\n\u001b[0m\u001b[1;32m    606\u001b[0m \u001b[0;34m\u001b[0m\u001b[0m\n\u001b[1;32m    607\u001b[0m     \u001b[0;32mif\u001b[0m \u001b[0mchunksize\u001b[0m \u001b[0;32mor\u001b[0m \u001b[0miterator\u001b[0m\u001b[0;34m:\u001b[0m\u001b[0;34m\u001b[0m\u001b[0;34m\u001b[0m\u001b[0m\n",
            "\u001b[0;32m/usr/local/lib/python3.10/dist-packages/pandas/io/parsers/readers.py\u001b[0m in \u001b[0;36m__init__\u001b[0;34m(self, f, engine, **kwds)\u001b[0m\n\u001b[1;32m   1440\u001b[0m \u001b[0;34m\u001b[0m\u001b[0m\n\u001b[1;32m   1441\u001b[0m         \u001b[0mself\u001b[0m\u001b[0;34m.\u001b[0m\u001b[0mhandles\u001b[0m\u001b[0;34m:\u001b[0m \u001b[0mIOHandles\u001b[0m \u001b[0;34m|\u001b[0m \u001b[0;32mNone\u001b[0m \u001b[0;34m=\u001b[0m \u001b[0;32mNone\u001b[0m\u001b[0;34m\u001b[0m\u001b[0;34m\u001b[0m\u001b[0m\n\u001b[0;32m-> 1442\u001b[0;31m         \u001b[0mself\u001b[0m\u001b[0;34m.\u001b[0m\u001b[0m_engine\u001b[0m \u001b[0;34m=\u001b[0m \u001b[0mself\u001b[0m\u001b[0;34m.\u001b[0m\u001b[0m_make_engine\u001b[0m\u001b[0;34m(\u001b[0m\u001b[0mf\u001b[0m\u001b[0;34m,\u001b[0m \u001b[0mself\u001b[0m\u001b[0;34m.\u001b[0m\u001b[0mengine\u001b[0m\u001b[0;34m)\u001b[0m\u001b[0;34m\u001b[0m\u001b[0;34m\u001b[0m\u001b[0m\n\u001b[0m\u001b[1;32m   1443\u001b[0m \u001b[0;34m\u001b[0m\u001b[0m\n\u001b[1;32m   1444\u001b[0m     \u001b[0;32mdef\u001b[0m \u001b[0mclose\u001b[0m\u001b[0;34m(\u001b[0m\u001b[0mself\u001b[0m\u001b[0;34m)\u001b[0m \u001b[0;34m->\u001b[0m \u001b[0;32mNone\u001b[0m\u001b[0;34m:\u001b[0m\u001b[0;34m\u001b[0m\u001b[0;34m\u001b[0m\u001b[0m\n",
            "\u001b[0;32m/usr/local/lib/python3.10/dist-packages/pandas/io/parsers/readers.py\u001b[0m in \u001b[0;36m_make_engine\u001b[0;34m(self, f, engine)\u001b[0m\n\u001b[1;32m   1733\u001b[0m                 \u001b[0;32mif\u001b[0m \u001b[0;34m\"b\"\u001b[0m \u001b[0;32mnot\u001b[0m \u001b[0;32min\u001b[0m \u001b[0mmode\u001b[0m\u001b[0;34m:\u001b[0m\u001b[0;34m\u001b[0m\u001b[0;34m\u001b[0m\u001b[0m\n\u001b[1;32m   1734\u001b[0m                     \u001b[0mmode\u001b[0m \u001b[0;34m+=\u001b[0m \u001b[0;34m\"b\"\u001b[0m\u001b[0;34m\u001b[0m\u001b[0;34m\u001b[0m\u001b[0m\n\u001b[0;32m-> 1735\u001b[0;31m             self.handles = get_handle(\n\u001b[0m\u001b[1;32m   1736\u001b[0m                 \u001b[0mf\u001b[0m\u001b[0;34m,\u001b[0m\u001b[0;34m\u001b[0m\u001b[0;34m\u001b[0m\u001b[0m\n\u001b[1;32m   1737\u001b[0m                 \u001b[0mmode\u001b[0m\u001b[0;34m,\u001b[0m\u001b[0;34m\u001b[0m\u001b[0;34m\u001b[0m\u001b[0m\n",
            "\u001b[0;32m/usr/local/lib/python3.10/dist-packages/pandas/io/common.py\u001b[0m in \u001b[0;36mget_handle\u001b[0;34m(path_or_buf, mode, encoding, compression, memory_map, is_text, errors, storage_options)\u001b[0m\n\u001b[1;32m    854\u001b[0m         \u001b[0;32mif\u001b[0m \u001b[0mioargs\u001b[0m\u001b[0;34m.\u001b[0m\u001b[0mencoding\u001b[0m \u001b[0;32mand\u001b[0m \u001b[0;34m\"b\"\u001b[0m \u001b[0;32mnot\u001b[0m \u001b[0;32min\u001b[0m \u001b[0mioargs\u001b[0m\u001b[0;34m.\u001b[0m\u001b[0mmode\u001b[0m\u001b[0;34m:\u001b[0m\u001b[0;34m\u001b[0m\u001b[0;34m\u001b[0m\u001b[0m\n\u001b[1;32m    855\u001b[0m             \u001b[0;31m# Encoding\u001b[0m\u001b[0;34m\u001b[0m\u001b[0;34m\u001b[0m\u001b[0m\n\u001b[0;32m--> 856\u001b[0;31m             handle = open(\n\u001b[0m\u001b[1;32m    857\u001b[0m                 \u001b[0mhandle\u001b[0m\u001b[0;34m,\u001b[0m\u001b[0;34m\u001b[0m\u001b[0;34m\u001b[0m\u001b[0m\n\u001b[1;32m    858\u001b[0m                 \u001b[0mioargs\u001b[0m\u001b[0;34m.\u001b[0m\u001b[0mmode\u001b[0m\u001b[0;34m,\u001b[0m\u001b[0;34m\u001b[0m\u001b[0;34m\u001b[0m\u001b[0m\n",
            "\u001b[0;31mFileNotFoundError\u001b[0m: [Errno 2] No such file or directory: 'android_traffic1.csv'"
          ]
        }
      ],
      "source": [
        "# Read dataset\n",
        "df = pd.read_csv('android_traffic1.csv', sep=';')\n",
        "df.head()"
      ]
    },
    {
      "cell_type": "markdown",
      "source": [
        "The **info()** method reveals details about the dataset's structure and data types."
      ],
      "metadata": {
        "id": "X4tQ_Vr28VvT"
      },
      "id": "X4tQ_Vr28VvT"
    },
    {
      "cell_type": "code",
      "execution_count": null,
      "id": "6157643c",
      "metadata": {
        "id": "6157643c",
        "outputId": "5ace5116-7a66-46c6-afe4-aa70b91d20df"
      },
      "outputs": [
        {
          "name": "stdout",
          "output_type": "stream",
          "text": [
            "<class 'pandas.core.frame.DataFrame'>\n",
            "RangeIndex: 7845 entries, 0 to 7844\n",
            "Data columns (total 9 columns):\n",
            " #   Column                Non-Null Count  Dtype \n",
            "---  ------                --------------  ----- \n",
            " 0   tcp_packets           7845 non-null   int64 \n",
            " 1   volume_bytes          7845 non-null   int64 \n",
            " 2   source_app_packets    7845 non-null   int64 \n",
            " 3   remote_app_packets    7845 non-null   int64 \n",
            " 4   source_app_bytes      7845 non-null   int64 \n",
            " 5   remote_app_bytes      7845 non-null   int64 \n",
            " 6   source_app_packets.1  7845 non-null   int64 \n",
            " 7   dns_query_times       7845 non-null   int64 \n",
            " 8   type                  7845 non-null   object\n",
            "dtypes: int64(8), object(1)\n",
            "memory usage: 551.7+ KB\n"
          ]
        }
      ],
      "source": [
        "df.info()"
      ]
    },
    {
      "cell_type": "markdown",
      "source": [
        "The *'name'* column is dropped from the DataFrame to remove unnecessary information. The DataFrame is displayed again to show the changes."
      ],
      "metadata": {
        "id": "tbHnMIeG9JVN"
      },
      "id": "tbHnMIeG9JVN"
    },
    {
      "cell_type": "code",
      "execution_count": null,
      "id": "f5f86182",
      "metadata": {
        "id": "f5f86182",
        "outputId": "b74bc6c2-9a81-4049-de70-fdbf012ac3b5"
      },
      "outputs": [
        {
          "data": {
            "text/html": [
              "<div>\n",
              "<style scoped>\n",
              "    .dataframe tbody tr th:only-of-type {\n",
              "        vertical-align: middle;\n",
              "    }\n",
              "\n",
              "    .dataframe tbody tr th {\n",
              "        vertical-align: top;\n",
              "    }\n",
              "\n",
              "    .dataframe thead th {\n",
              "        text-align: right;\n",
              "    }\n",
              "</style>\n",
              "<table border=\"1\" class=\"dataframe\">\n",
              "  <thead>\n",
              "    <tr style=\"text-align: right;\">\n",
              "      <th></th>\n",
              "      <th>tcp_packets</th>\n",
              "      <th>external_ips</th>\n",
              "      <th>volume_bytes</th>\n",
              "      <th>source_app_packets</th>\n",
              "      <th>remote_app_packets</th>\n",
              "      <th>source_app_bytes</th>\n",
              "      <th>remote_app_bytes</th>\n",
              "      <th>source_app_packets.1</th>\n",
              "      <th>dns_query_times</th>\n",
              "      <th>type</th>\n",
              "    </tr>\n",
              "  </thead>\n",
              "  <tbody>\n",
              "    <tr>\n",
              "      <th>0</th>\n",
              "      <td>36</td>\n",
              "      <td>3</td>\n",
              "      <td>3911</td>\n",
              "      <td>39</td>\n",
              "      <td>33</td>\n",
              "      <td>5100</td>\n",
              "      <td>4140</td>\n",
              "      <td>39</td>\n",
              "      <td>3</td>\n",
              "      <td>benign</td>\n",
              "    </tr>\n",
              "    <tr>\n",
              "      <th>1</th>\n",
              "      <td>117</td>\n",
              "      <td>9</td>\n",
              "      <td>23514</td>\n",
              "      <td>128</td>\n",
              "      <td>107</td>\n",
              "      <td>26248</td>\n",
              "      <td>24358</td>\n",
              "      <td>128</td>\n",
              "      <td>11</td>\n",
              "      <td>benign</td>\n",
              "    </tr>\n",
              "    <tr>\n",
              "      <th>2</th>\n",
              "      <td>196</td>\n",
              "      <td>6</td>\n",
              "      <td>24151</td>\n",
              "      <td>205</td>\n",
              "      <td>214</td>\n",
              "      <td>163887</td>\n",
              "      <td>24867</td>\n",
              "      <td>205</td>\n",
              "      <td>9</td>\n",
              "      <td>benign</td>\n",
              "    </tr>\n",
              "    <tr>\n",
              "      <th>3</th>\n",
              "      <td>6</td>\n",
              "      <td>1</td>\n",
              "      <td>889</td>\n",
              "      <td>7</td>\n",
              "      <td>6</td>\n",
              "      <td>819</td>\n",
              "      <td>975</td>\n",
              "      <td>7</td>\n",
              "      <td>1</td>\n",
              "      <td>benign</td>\n",
              "    </tr>\n",
              "    <tr>\n",
              "      <th>4</th>\n",
              "      <td>6</td>\n",
              "      <td>1</td>\n",
              "      <td>882</td>\n",
              "      <td>7</td>\n",
              "      <td>6</td>\n",
              "      <td>819</td>\n",
              "      <td>968</td>\n",
              "      <td>7</td>\n",
              "      <td>1</td>\n",
              "      <td>benign</td>\n",
              "    </tr>\n",
              "  </tbody>\n",
              "</table>\n",
              "</div>"
            ],
            "text/plain": [
              "   tcp_packets  external_ips  volume_bytes  source_app_packets  \\\n",
              "0           36             3          3911                  39   \n",
              "1          117             9         23514                 128   \n",
              "2          196             6         24151                 205   \n",
              "3            6             1           889                   7   \n",
              "4            6             1           882                   7   \n",
              "\n",
              "   remote_app_packets  source_app_bytes  remote_app_bytes  \\\n",
              "0                  33              5100              4140   \n",
              "1                 107             26248             24358   \n",
              "2                 214            163887             24867   \n",
              "3                   6               819               975   \n",
              "4                   6               819               968   \n",
              "\n",
              "   source_app_packets.1  dns_query_times    type  \n",
              "0                    39                3  benign  \n",
              "1                   128               11  benign  \n",
              "2                   205                9  benign  \n",
              "3                     7                1  benign  \n",
              "4                     7                1  benign  "
            ]
          },
          "execution_count": 21,
          "metadata": {},
          "output_type": "execute_result"
        }
      ],
      "source": [
        "# Get required data\n",
        "df.drop(columns = ['name'], inplace=True)\n",
        "df.head()"
      ]
    },
    {
      "cell_type": "markdown",
      "source": [
        "Descriptive statistics of the data are generated using the **describe()** method, providing insights into the central tendency, dispersion, and shape of the distribution."
      ],
      "metadata": {
        "id": "swvTgsAI9QFH"
      },
      "id": "swvTgsAI9QFH"
    },
    {
      "cell_type": "code",
      "execution_count": null,
      "id": "56880d49",
      "metadata": {
        "id": "56880d49",
        "outputId": "04a5edbf-d402-488e-86e5-53e790190a24"
      },
      "outputs": [
        {
          "data": {
            "text/html": [
              "<div>\n",
              "<style scoped>\n",
              "    .dataframe tbody tr th:only-of-type {\n",
              "        vertical-align: middle;\n",
              "    }\n",
              "\n",
              "    .dataframe tbody tr th {\n",
              "        vertical-align: top;\n",
              "    }\n",
              "\n",
              "    .dataframe thead th {\n",
              "        text-align: right;\n",
              "    }\n",
              "</style>\n",
              "<table border=\"1\" class=\"dataframe\">\n",
              "  <thead>\n",
              "    <tr style=\"text-align: right;\">\n",
              "      <th></th>\n",
              "      <th>tcp_packets</th>\n",
              "      <th>external_ips</th>\n",
              "      <th>volume_bytes</th>\n",
              "      <th>source_app_packets</th>\n",
              "      <th>remote_app_packets</th>\n",
              "      <th>source_app_bytes</th>\n",
              "      <th>remote_app_bytes</th>\n",
              "      <th>source_app_packets.1</th>\n",
              "      <th>dns_query_times</th>\n",
              "    </tr>\n",
              "  </thead>\n",
              "  <tbody>\n",
              "    <tr>\n",
              "      <th>count</th>\n",
              "      <td>7845.000000</td>\n",
              "      <td>7845.000000</td>\n",
              "      <td>7.845000e+03</td>\n",
              "      <td>7845.000000</td>\n",
              "      <td>7845.000000</td>\n",
              "      <td>7.845000e+03</td>\n",
              "      <td>7.845000e+03</td>\n",
              "      <td>7845.000000</td>\n",
              "      <td>7845.000000</td>\n",
              "    </tr>\n",
              "    <tr>\n",
              "      <th>mean</th>\n",
              "      <td>147.578713</td>\n",
              "      <td>2.748502</td>\n",
              "      <td>1.654375e+04</td>\n",
              "      <td>152.911918</td>\n",
              "      <td>194.706310</td>\n",
              "      <td>2.024967e+05</td>\n",
              "      <td>1.692260e+04</td>\n",
              "      <td>152.911918</td>\n",
              "      <td>4.898917</td>\n",
              "    </tr>\n",
              "    <tr>\n",
              "      <th>std</th>\n",
              "      <td>777.920084</td>\n",
              "      <td>2.923005</td>\n",
              "      <td>8.225650e+04</td>\n",
              "      <td>779.034618</td>\n",
              "      <td>1068.112696</td>\n",
              "      <td>1.401076e+06</td>\n",
              "      <td>8.238182e+04</td>\n",
              "      <td>779.034618</td>\n",
              "      <td>18.900478</td>\n",
              "    </tr>\n",
              "    <tr>\n",
              "      <th>min</th>\n",
              "      <td>0.000000</td>\n",
              "      <td>0.000000</td>\n",
              "      <td>0.000000e+00</td>\n",
              "      <td>1.000000</td>\n",
              "      <td>0.000000</td>\n",
              "      <td>0.000000e+00</td>\n",
              "      <td>6.900000e+01</td>\n",
              "      <td>1.000000</td>\n",
              "      <td>0.000000</td>\n",
              "    </tr>\n",
              "    <tr>\n",
              "      <th>25%</th>\n",
              "      <td>6.000000</td>\n",
              "      <td>1.000000</td>\n",
              "      <td>8.880000e+02</td>\n",
              "      <td>7.000000</td>\n",
              "      <td>7.000000</td>\n",
              "      <td>9.340000e+02</td>\n",
              "      <td>1.046000e+03</td>\n",
              "      <td>7.000000</td>\n",
              "      <td>1.000000</td>\n",
              "    </tr>\n",
              "    <tr>\n",
              "      <th>50%</th>\n",
              "      <td>25.000000</td>\n",
              "      <td>2.000000</td>\n",
              "      <td>3.509000e+03</td>\n",
              "      <td>30.000000</td>\n",
              "      <td>24.000000</td>\n",
              "      <td>4.090000e+03</td>\n",
              "      <td>3.803000e+03</td>\n",
              "      <td>30.000000</td>\n",
              "      <td>3.000000</td>\n",
              "    </tr>\n",
              "    <tr>\n",
              "      <th>75%</th>\n",
              "      <td>93.000000</td>\n",
              "      <td>4.000000</td>\n",
              "      <td>1.218900e+04</td>\n",
              "      <td>98.000000</td>\n",
              "      <td>92.000000</td>\n",
              "      <td>2.624400e+04</td>\n",
              "      <td>1.261000e+04</td>\n",
              "      <td>98.000000</td>\n",
              "      <td>5.000000</td>\n",
              "    </tr>\n",
              "    <tr>\n",
              "      <th>max</th>\n",
              "      <td>37143.000000</td>\n",
              "      <td>43.000000</td>\n",
              "      <td>4.226790e+06</td>\n",
              "      <td>37150.000000</td>\n",
              "      <td>45928.000000</td>\n",
              "      <td>6.823516e+07</td>\n",
              "      <td>4.227323e+06</td>\n",
              "      <td>37150.000000</td>\n",
              "      <td>913.000000</td>\n",
              "    </tr>\n",
              "  </tbody>\n",
              "</table>\n",
              "</div>"
            ],
            "text/plain": [
              "        tcp_packets  external_ips  volume_bytes  source_app_packets  \\\n",
              "count   7845.000000   7845.000000  7.845000e+03         7845.000000   \n",
              "mean     147.578713      2.748502  1.654375e+04          152.911918   \n",
              "std      777.920084      2.923005  8.225650e+04          779.034618   \n",
              "min        0.000000      0.000000  0.000000e+00            1.000000   \n",
              "25%        6.000000      1.000000  8.880000e+02            7.000000   \n",
              "50%       25.000000      2.000000  3.509000e+03           30.000000   \n",
              "75%       93.000000      4.000000  1.218900e+04           98.000000   \n",
              "max    37143.000000     43.000000  4.226790e+06        37150.000000   \n",
              "\n",
              "       remote_app_packets  source_app_bytes  remote_app_bytes  \\\n",
              "count         7845.000000      7.845000e+03      7.845000e+03   \n",
              "mean           194.706310      2.024967e+05      1.692260e+04   \n",
              "std           1068.112696      1.401076e+06      8.238182e+04   \n",
              "min              0.000000      0.000000e+00      6.900000e+01   \n",
              "25%              7.000000      9.340000e+02      1.046000e+03   \n",
              "50%             24.000000      4.090000e+03      3.803000e+03   \n",
              "75%             92.000000      2.624400e+04      1.261000e+04   \n",
              "max          45928.000000      6.823516e+07      4.227323e+06   \n",
              "\n",
              "       source_app_packets.1  dns_query_times  \n",
              "count           7845.000000      7845.000000  \n",
              "mean             152.911918         4.898917  \n",
              "std              779.034618        18.900478  \n",
              "min                1.000000         0.000000  \n",
              "25%                7.000000         1.000000  \n",
              "50%               30.000000         3.000000  \n",
              "75%               98.000000         5.000000  \n",
              "max            37150.000000       913.000000  "
            ]
          },
          "execution_count": 22,
          "metadata": {},
          "output_type": "execute_result"
        }
      ],
      "source": [
        "# Describe data\n",
        "df.describe()"
      ]
    },
    {
      "cell_type": "markdown",
      "source": [
        "A seaborn histogram is used to visualize the distribution of the *'volume_bytes'* variable, offering insights into its spread and central tendency."
      ],
      "metadata": {
        "id": "rzRJMhIw9iGJ"
      },
      "id": "rzRJMhIw9iGJ"
    },
    {
      "cell_type": "code",
      "execution_count": null,
      "id": "637ec6f9",
      "metadata": {
        "id": "637ec6f9",
        "outputId": "af49d4bc-adf4-4b8a-9a80-bddf09c79393"
      },
      "outputs": [
        {
          "name": "stderr",
          "output_type": "stream",
          "text": [
            "C:\\Users\\ASUS\\AppData\\Local\\Temp\\ipykernel_9920\\958796551.py:2: UserWarning: \n",
            "\n",
            "`distplot` is a deprecated function and will be removed in seaborn v0.14.0.\n",
            "\n",
            "Please adapt your code to use either `displot` (a figure-level function with\n",
            "similar flexibility) or `histplot` (an axes-level function for histograms).\n",
            "\n",
            "For a guide to updating your code to use the new functions, please see\n",
            "https://gist.github.com/mwaskom/de44147ed2974457ad6372750bbe5751\n",
            "\n",
            "  sns.distplot(df['volume_bytes'])\n"
          ]
        },
        {
          "data": {
            "text/plain": [
              "<Axes: xlabel='volume_bytes', ylabel='Density'>"
            ]
          },
          "execution_count": 23,
          "metadata": {},
          "output_type": "execute_result"
        },
        {
          "data": {
            "image/png": "[encoded data removed]",
            "text/plain": [
              "<Figure size 640x480 with 1 Axes>"
            ]
          },
          "metadata": {},
          "output_type": "display_data"
        }
      ],
      "source": [
        "# Volume distribution\n",
        "sns.distplot(df['volume_bytes'])"
      ]
    },
    {
      "cell_type": "markdown",
      "source": [
        "Label encoding is applied to transform categorical data (*'external_ips'*) into numerical format using scikit-learn's **LabelEncoder**."
      ],
      "metadata": {
        "id": "vEziv4kG9nRD"
      },
      "id": "vEziv4kG9nRD"
    },
    {
      "cell_type": "code",
      "execution_count": null,
      "id": "ce5ca921",
      "metadata": {
        "id": "ce5ca921"
      },
      "outputs": [],
      "source": [
        "# Label encoding\n",
        "le = LabelEncoder()\n",
        "df['external_ips']= le.fit_transform(df['external_ips'])"
      ]
    },
    {
      "cell_type": "markdown",
      "source": [
        "The correlation matrix is computed using **corr()**, and a heatmap is plotted using seaborn to visualize the correlation between different features."
      ],
      "metadata": {
        "id": "j_6dSn81-D22"
      },
      "id": "j_6dSn81-D22"
    },
    {
      "cell_type": "code",
      "execution_count": null,
      "id": "3d7e56a7",
      "metadata": {
        "id": "3d7e56a7",
        "outputId": "30f7dfb2-838a-46b1-c17b-ba7ce14f4b04"
      },
      "outputs": [
        {
          "name": "stderr",
          "output_type": "stream",
          "text": [
            "C:\\Users\\ASUS\\AppData\\Local\\Temp\\ipykernel_9920\\3006464183.py:2: FutureWarning: The default value of numeric_only in DataFrame.corr is deprecated. In a future version, it will default to False. Select only valid columns or specify the value of numeric_only to silence this warning.\n",
            "  df.corr()\n",
            "C:\\Users\\ASUS\\AppData\\Local\\Temp\\ipykernel_9920\\3006464183.py:3: FutureWarning: The default value of numeric_only in DataFrame.corr is deprecated. In a future version, it will default to False. Select only valid columns or specify the value of numeric_only to silence this warning.\n",
            "  sns.heatmap(df.corr())\n"
          ]
        },
        {
          "data": {
            "text/plain": [
              "<Axes: >"
            ]
          },
          "execution_count": 25,
          "metadata": {},
          "output_type": "execute_result"
        },
        {
          "data": {
            "image/png": "[encoded data removed]",
            "text/plain": [
              "<Figure size 640x480 with 2 Axes>"
            ]
          },
          "metadata": {},
          "output_type": "display_data"
        }
      ],
      "source": [
        "# Correlation matrix\n",
        "df.corr()\n",
        "sns.heatmap(df.corr())"
      ]
    },
    {
      "cell_type": "markdown",
      "source": [
        "The *'external_ips'* column is dropped from the DataFrame to potentially address multicollinearity issues."
      ],
      "metadata": {
        "id": "K_VPBogN-Ju0"
      },
      "id": "K_VPBogN-Ju0"
    },
    {
      "cell_type": "code",
      "execution_count": null,
      "id": "2018dbfe",
      "metadata": {
        "id": "2018dbfe"
      },
      "outputs": [],
      "source": [
        "# Drop external_ips column\n",
        "df.drop(columns=['external_ips'], inplace=True)"
      ]
    },
    {
      "cell_type": "markdown",
      "source": [
        "The data is split into dependent (*'X'*) and independent (*'y'*) variables, preparing it for the training and testing phases. It utilizes the **train_test_split** function from scikit-learn."
      ],
      "metadata": {
        "id": "yXxuzm-A-O5n"
      },
      "id": "yXxuzm-A-O5n"
    },
    {
      "cell_type": "code",
      "execution_count": null,
      "id": "0e04501a",
      "metadata": {
        "id": "0e04501a"
      },
      "outputs": [],
      "source": [
        "# Split data into dependent/independent variables\n",
        "X = df.iloc[:, :-1].values\n",
        "y = df.iloc[:, -1].values"
      ]
    },
    {
      "cell_type": "code",
      "execution_count": null,
      "id": "2796e393",
      "metadata": {
        "id": "2796e393"
      },
      "outputs": [],
      "source": [
        "# Split data into test/train set\n",
        "X_train, X_test, y_train, y_test = train_test_split(X, y, test_size = 0.25, random_state = True)"
      ]
    },
    {
      "cell_type": "markdown",
      "source": [
        "The scale dataset is standardized by scaling its features using **StandardScaler** from scikit-learn to ensure uniformity and improved model performance."
      ],
      "metadata": {
        "id": "AHE2ecRb-UrK"
      },
      "id": "AHE2ecRb-UrK"
    },
    {
      "cell_type": "code",
      "execution_count": null,
      "id": "bbf11c55",
      "metadata": {
        "id": "bbf11c55"
      },
      "outputs": [],
      "source": [
        "# Scale dataset\n",
        "sc = StandardScaler()\n",
        "X_train = sc.fit_transform(X_train)\n",
        "X_test = sc.transform(X_test)"
      ]
    },
    {
      "cell_type": "markdown",
      "source": [
        "A Gaussian Naive Bayes classifier is instantiated, trained on the scaled training data, and used to predict outcomes for the test set."
      ],
      "metadata": {
        "id": "LU3NrHFd-rfy"
      },
      "id": "LU3NrHFd-rfy"
    },
    {
      "cell_type": "code",
      "execution_count": null,
      "id": "5cc99abe",
      "metadata": {
        "id": "5cc99abe",
        "outputId": "978220c2-194c-470b-db78-4aae684f2e56"
      },
      "outputs": [
        {
          "data": {
            "text/html": [
              "<style>#sk-container-id-2 {color: black;background-color: white;}#sk-container-id-2 pre{padding: 0;}#sk-container-id-2 div.sk-toggleable {background-color: white;}#sk-container-id-2 label.sk-toggleable__label {cursor: pointer;display: block;width: 100%;margin-bottom: 0;padding: 0.3em;box-sizing: border-box;text-align: center;}#sk-container-id-2 label.sk-toggleable__label-arrow:before {content: \"▸\";float: left;margin-right: 0.25em;color: #696969;}#sk-container-id-2 label.sk-toggleable__label-arrow:hover:before {color: black;}#sk-container-id-2 div.sk-estimator:hover label.sk-toggleable__label-arrow:before {color: black;}#sk-container-id-2 div.sk-toggleable__content {max-height: 0;max-width: 0;overflow: hidden;text-align: left;background-color: #f0f8ff;}#sk-container-id-2 div.sk-toggleable__content pre {margin: 0.2em;color: black;border-radius: 0.25em;background-color: #f0f8ff;}#sk-container-id-2 input.sk-toggleable__control:checked~div.sk-toggleable__content {max-height: 200px;max-width: 100%;overflow: auto;}#sk-container-id-2 input.sk-toggleable__control:checked~label.sk-toggleable__label-arrow:before {content: \"▾\";}#sk-container-id-2 div.sk-estimator input.sk-toggleable__control:checked~label.sk-toggleable__label {background-color: #d4ebff;}#sk-container-id-2 div.sk-label input.sk-toggleable__control:checked~label.sk-toggleable__label {background-color: #d4ebff;}#sk-container-id-2 input.sk-hidden--visually {border: 0;clip: rect(1px 1px 1px 1px);clip: rect(1px, 1px, 1px, 1px);height: 1px;margin: -1px;overflow: hidden;padding: 0;position: absolute;width: 1px;}#sk-container-id-2 div.sk-estimator {font-family: monospace;background-color: #f0f8ff;border: 1px dotted black;border-radius: 0.25em;box-sizing: border-box;margin-bottom: 0.5em;}#sk-container-id-2 div.sk-estimator:hover {background-color: #d4ebff;}#sk-container-id-2 div.sk-parallel-item::after {content: \"\";width: 100%;border-bottom: 1px solid gray;flex-grow: 1;}#sk-container-id-2 div.sk-label:hover label.sk-toggleable__label {background-color: #d4ebff;}#sk-container-id-2 div.sk-serial::before {content: \"\";position: absolute;border-left: 1px solid gray;box-sizing: border-box;top: 0;bottom: 0;left: 50%;z-index: 0;}#sk-container-id-2 div.sk-serial {display: flex;flex-direction: column;align-items: center;background-color: white;padding-right: 0.2em;padding-left: 0.2em;position: relative;}#sk-container-id-2 div.sk-item {position: relative;z-index: 1;}#sk-container-id-2 div.sk-parallel {display: flex;align-items: stretch;justify-content: center;background-color: white;position: relative;}#sk-container-id-2 div.sk-item::before, #sk-container-id-2 div.sk-parallel-item::before {content: \"\";position: absolute;border-left: 1px solid gray;box-sizing: border-box;top: 0;bottom: 0;left: 50%;z-index: -1;}#sk-container-id-2 div.sk-parallel-item {display: flex;flex-direction: column;z-index: 1;position: relative;background-color: white;}#sk-container-id-2 div.sk-parallel-item:first-child::after {align-self: flex-end;width: 50%;}#sk-container-id-2 div.sk-parallel-item:last-child::after {align-self: flex-start;width: 50%;}#sk-container-id-2 div.sk-parallel-item:only-child::after {width: 0;}#sk-container-id-2 div.sk-dashed-wrapped {border: 1px dashed gray;margin: 0 0.4em 0.5em 0.4em;box-sizing: border-box;padding-bottom: 0.4em;background-color: white;}#sk-container-id-2 div.sk-label label {font-family: monospace;font-weight: bold;display: inline-block;line-height: 1.2em;}#sk-container-id-2 div.sk-label-container {text-align: center;}#sk-container-id-2 div.sk-container {/* jupyter's `normalize.less` sets `[hidden] { display: none; }` but bootstrap.min.css set `[hidden] { display: none !important; }` so we also need the `!important` here to be able to override the default hidden behavior on the sphinx rendered scikit-learn.org. See: https://github.com/scikit-learn/scikit-learn/issues/21755 */display: inline-block !important;position: relative;}#sk-container-id-2 div.sk-text-repr-fallback {display: none;}</style><div id=\"sk-container-id-2\" class=\"sk-top-container\"><div class=\"sk-text-repr-fallback\"><pre>GaussianNB()</pre><b>In a Jupyter environment, please rerun this cell to show the HTML representation or trust the notebook. <br />On GitHub, the HTML representation is unable to render, please try loading this page with nbviewer.org.</b></div><div class=\"sk-container\" hidden><div class=\"sk-item\"><div class=\"sk-estimator sk-toggleable\"><input class=\"sk-toggleable__control sk-hidden--visually\" id=\"sk-estimator-id-2\" type=\"checkbox\" checked><label for=\"sk-estimator-id-2\" class=\"sk-toggleable__label sk-toggleable__label-arrow\">GaussianNB</label><div class=\"sk-toggleable__content\"><pre>GaussianNB()</pre></div></div></div></div></div>"
            ],
            "text/plain": [
              "GaussianNB()"
            ]
          },
          "execution_count": 30,
          "metadata": {},
          "output_type": "execute_result"
        }
      ],
      "source": [
        "# Classifier\n",
        "classifier = GaussianNB()\n",
        "classifier.fit(X_train, y_train)"
      ]
    },
    {
      "cell_type": "markdown",
      "source": [
        "The model is used to predict outcomes on the test set, and the predictions are printed alongside the actual values."
      ],
      "metadata": {
        "id": "MD2ztvXI-vNX"
      },
      "id": "MD2ztvXI-vNX"
    },
    {
      "cell_type": "code",
      "execution_count": null,
      "id": "2f981def",
      "metadata": {
        "id": "2f981def",
        "outputId": "a4c0f01e-02bb-4826-e674-c834a6664ea9"
      },
      "outputs": [
        {
          "name": "stdout",
          "output_type": "stream",
          "text": [
            "[['malicious' 'malicious']\n",
            " ['malicious' 'malicious']\n",
            " ['malicious' 'benign']\n",
            " ...\n",
            " ['malicious' 'malicious']\n",
            " ['benign' 'benign']\n",
            " ['malicious' 'benign']]\n"
          ]
        }
      ],
      "source": [
        "# Prediction\n",
        "y_pred = classifier.predict(X_test)\n",
        "print(np.concatenate((y_pred.reshape(len(y_pred), 1), y_test.reshape(len(y_test), 1)), 1))"
      ]
    },
    {
      "cell_type": "code",
      "execution_count": null,
      "id": "283ba1a8",
      "metadata": {
        "id": "283ba1a8",
        "outputId": "cbd3353d-2c18-4bcd-b97b-eea9f38833fc"
      },
      "outputs": [
        {
          "name": "stdout",
          "output_type": "stream",
          "text": [
            "Actual Value: benign\n",
            "Predicted Value: malicious\n"
          ]
        }
      ],
      "source": [
        "print(\"Actual Value:\", y_test[6])\n",
        "print(\"Predicted Value:\", y_pred[0])"
      ]
    },
    {
      "cell_type": "markdown",
      "source": [
        "The accuracy of the model is calculated using scikit-learn's **accuracy_score** and printed."
      ],
      "metadata": {
        "id": "5s9f3KuK_Nr0"
      },
      "id": "5s9f3KuK_Nr0"
    },
    {
      "cell_type": "code",
      "execution_count": null,
      "id": "6116ef63",
      "metadata": {
        "id": "6116ef63",
        "outputId": "afbe0ba9-df85-4368-eb78-a91bd395b97b"
      },
      "outputs": [
        {
          "name": "stdout",
          "output_type": "stream",
          "text": [
            "Accuracy: 0.4240570846075433\n"
          ]
        }
      ],
      "source": [
        "# Evaluation Metrics\n",
        "accuracy = accuracy_score(y_test, y_pred)\n",
        "print(f'Accuracy: {accuracy}')"
      ]
    },
    {
      "cell_type": "markdown",
      "source": [
        "A detailed classification report is generated using scikit-learn's **classification_report**, providing precision, recall, and F1-score for each class."
      ],
      "metadata": {
        "id": "cxTiLprE_RlI"
      },
      "id": "cxTiLprE_RlI"
    },
    {
      "cell_type": "code",
      "execution_count": null,
      "id": "5c0fa75d",
      "metadata": {
        "id": "5c0fa75d",
        "outputId": "25686bee-af42-4b8a-9047-fad051209bc1"
      },
      "outputs": [
        {
          "name": "stdout",
          "output_type": "stream",
          "text": [
            "Classification Report: \n",
            "              precision    recall  f1-score   support\n",
            "\n",
            "      benign       0.79      0.06      0.11      1184\n",
            "   malicious       0.41      0.98      0.57       778\n",
            "\n",
            "    accuracy                           0.42      1962\n",
            "   macro avg       0.60      0.52      0.34      1962\n",
            "weighted avg       0.64      0.42      0.30      1962\n",
            "\n"
          ]
        }
      ],
      "source": [
        "# Classification Report\n",
        "print(f'Classification Report: \\n{classification_report(y_test, y_pred)}')"
      ]
    },
    {
      "cell_type": "markdown",
      "source": [
        "The weighted F1 score is calculated and printed as an additional metric for model evaluation."
      ],
      "metadata": {
        "id": "UUM_ol6G_ePg"
      },
      "id": "UUM_ol6G_ePg"
    },
    {
      "cell_type": "code",
      "execution_count": null,
      "id": "535cd9e9",
      "metadata": {
        "id": "535cd9e9",
        "outputId": "9e9e1553-2d5a-4022-b276-8250ed65854f"
      },
      "outputs": [
        {
          "name": "stdout",
          "output_type": "stream",
          "text": [
            "F1 Score : 0.29636689279202694\n"
          ]
        }
      ],
      "source": [
        "# F1 score\n",
        "print(f\"F1 Score : {f1_score(y_test, y_pred, average='weighted')}\")"
      ]
    },
    {
      "cell_type": "markdown",
      "source": [
        "A confusion matrix is computed using **confusion_matrix**, and a heatmap is plotted using seaborn to visualize true positive, true negative, false positive, and false negative values."
      ],
      "metadata": {
        "id": "cbl_lTZH_kqu"
      },
      "id": "cbl_lTZH_kqu"
    },
    {
      "cell_type": "code",
      "execution_count": null,
      "id": "0b51781f",
      "metadata": {
        "id": "0b51781f",
        "outputId": "230fd393-fedf-4314-cece-0ad78fd9e510"
      },
      "outputs": [
        {
          "data": {
            "text/plain": [
              "<Axes: >"
            ]
          },
          "execution_count": 35,
          "metadata": {},
          "output_type": "execute_result"
        },
        {
          "data": {
            "image/png": "[encoded data removed]",
            "text/plain": [
              "<Figure size 640x480 with 1 Axes>"
            ]
          },
          "metadata": {},
          "output_type": "display_data"
        }
      ],
      "source": [
        "# Confusion matrix\n",
        "cf_matrix = confusion_matrix(y_test, y_pred)\n",
        "sns.heatmap(cf_matrix, annot=True, fmt='d', cmap='Blues', cbar=False)"
      ]
    },
    {
      "cell_type": "code",
      "execution_count": null,
      "id": "bc4d8693",
      "metadata": {
        "id": "bc4d8693",
        "outputId": "31eb11f8-0e02-4349-de61-fdb9fff5465c"
      },
      "outputs": [
        {
          "ename": "ValueError",
          "evalue": "The number of FixedLocator locations (2), usually from a call to set_ticks, does not match the number of labels (3).",
          "output_type": "error",
          "traceback": [
            "\u001b[1;31m---------------------------------------------------------------------------\u001b[0m",
            "\u001b[1;31mValueError\u001b[0m                                Traceback (most recent call last)",
            "Cell \u001b[1;32mIn[54], line 3\u001b[0m\n\u001b[0;32m      1\u001b[0m labels \u001b[38;5;241m=\u001b[39m [\u001b[38;5;241m0\u001b[39m,\u001b[38;5;241m1\u001b[39m,\u001b[38;5;241m2\u001b[39m]\n\u001b[0;32m      2\u001b[0m disp \u001b[38;5;241m=\u001b[39m ConfusionMatrixDisplay(confusion_matrix\u001b[38;5;241m=\u001b[39mcf_matrix, display_labels\u001b[38;5;241m=\u001b[39mlabels)\n\u001b[1;32m----> 3\u001b[0m disp\u001b[38;5;241m.\u001b[39mplot()\n",
            "File \u001b[1;32m~\\anaconda3\\Lib\\site-packages\\sklearn\\metrics\\_plot\\confusion_matrix.py:181\u001b[0m, in \u001b[0;36mConfusionMatrixDisplay.plot\u001b[1;34m(self, include_values, cmap, xticks_rotation, values_format, ax, colorbar, im_kw, text_kw)\u001b[0m\n\u001b[0;32m    179\u001b[0m \u001b[38;5;28;01mif\u001b[39;00m colorbar:\n\u001b[0;32m    180\u001b[0m     fig\u001b[38;5;241m.\u001b[39mcolorbar(\u001b[38;5;28mself\u001b[39m\u001b[38;5;241m.\u001b[39mim_, ax\u001b[38;5;241m=\u001b[39max)\n\u001b[1;32m--> 181\u001b[0m ax\u001b[38;5;241m.\u001b[39mset(\n\u001b[0;32m    182\u001b[0m     xticks\u001b[38;5;241m=\u001b[39mnp\u001b[38;5;241m.\u001b[39marange(n_classes),\n\u001b[0;32m    183\u001b[0m     yticks\u001b[38;5;241m=\u001b[39mnp\u001b[38;5;241m.\u001b[39marange(n_classes),\n\u001b[0;32m    184\u001b[0m     xticklabels\u001b[38;5;241m=\u001b[39mdisplay_labels,\n\u001b[0;32m    185\u001b[0m     yticklabels\u001b[38;5;241m=\u001b[39mdisplay_labels,\n\u001b[0;32m    186\u001b[0m     ylabel\u001b[38;5;241m=\u001b[39m\u001b[38;5;124m\"\u001b[39m\u001b[38;5;124mTrue label\u001b[39m\u001b[38;5;124m\"\u001b[39m,\n\u001b[0;32m    187\u001b[0m     xlabel\u001b[38;5;241m=\u001b[39m\u001b[38;5;124m\"\u001b[39m\u001b[38;5;124mPredicted label\u001b[39m\u001b[38;5;124m\"\u001b[39m,\n\u001b[0;32m    188\u001b[0m )\n\u001b[0;32m    190\u001b[0m ax\u001b[38;5;241m.\u001b[39mset_ylim((n_classes \u001b[38;5;241m-\u001b[39m \u001b[38;5;241m0.5\u001b[39m, \u001b[38;5;241m-\u001b[39m\u001b[38;5;241m0.5\u001b[39m))\n\u001b[0;32m    191\u001b[0m plt\u001b[38;5;241m.\u001b[39msetp(ax\u001b[38;5;241m.\u001b[39mget_xticklabels(), rotation\u001b[38;5;241m=\u001b[39mxticks_rotation)\n",
            "File \u001b[1;32m~\\anaconda3\\Lib\\site-packages\\matplotlib\\artist.py:147\u001b[0m, in \u001b[0;36mArtist.__init_subclass__.<locals>.<lambda>\u001b[1;34m(self, **kwargs)\u001b[0m\n\u001b[0;32m    139\u001b[0m \u001b[38;5;28;01mif\u001b[39;00m \u001b[38;5;129;01mnot\u001b[39;00m \u001b[38;5;28mhasattr\u001b[39m(\u001b[38;5;28mcls\u001b[39m\u001b[38;5;241m.\u001b[39mset, \u001b[38;5;124m'\u001b[39m\u001b[38;5;124m_autogenerated_signature\u001b[39m\u001b[38;5;124m'\u001b[39m):\n\u001b[0;32m    140\u001b[0m     \u001b[38;5;66;03m# Don't overwrite cls.set if the subclass or one of its parents\u001b[39;00m\n\u001b[0;32m    141\u001b[0m     \u001b[38;5;66;03m# has defined a set method set itself.\u001b[39;00m\n\u001b[0;32m    142\u001b[0m     \u001b[38;5;66;03m# If there was no explicit definition, cls.set is inherited from\u001b[39;00m\n\u001b[0;32m    143\u001b[0m     \u001b[38;5;66;03m# the hierarchy of auto-generated set methods, which hold the\u001b[39;00m\n\u001b[0;32m    144\u001b[0m     \u001b[38;5;66;03m# flag _autogenerated_signature.\u001b[39;00m\n\u001b[0;32m    145\u001b[0m     \u001b[38;5;28;01mreturn\u001b[39;00m\n\u001b[1;32m--> 147\u001b[0m \u001b[38;5;28mcls\u001b[39m\u001b[38;5;241m.\u001b[39mset \u001b[38;5;241m=\u001b[39m \u001b[38;5;28;01mlambda\u001b[39;00m \u001b[38;5;28mself\u001b[39m, \u001b[38;5;241m*\u001b[39m\u001b[38;5;241m*\u001b[39mkwargs: Artist\u001b[38;5;241m.\u001b[39mset(\u001b[38;5;28mself\u001b[39m, \u001b[38;5;241m*\u001b[39m\u001b[38;5;241m*\u001b[39mkwargs)\n\u001b[0;32m    148\u001b[0m \u001b[38;5;28mcls\u001b[39m\u001b[38;5;241m.\u001b[39mset\u001b[38;5;241m.\u001b[39m\u001b[38;5;18m__name__\u001b[39m \u001b[38;5;241m=\u001b[39m \u001b[38;5;124m\"\u001b[39m\u001b[38;5;124mset\u001b[39m\u001b[38;5;124m\"\u001b[39m\n\u001b[0;32m    149\u001b[0m \u001b[38;5;28mcls\u001b[39m\u001b[38;5;241m.\u001b[39mset\u001b[38;5;241m.\u001b[39m\u001b[38;5;18m__qualname__\u001b[39m \u001b[38;5;241m=\u001b[39m \u001b[38;5;124mf\u001b[39m\u001b[38;5;124m\"\u001b[39m\u001b[38;5;132;01m{\u001b[39;00m\u001b[38;5;28mcls\u001b[39m\u001b[38;5;241m.\u001b[39m\u001b[38;5;18m__qualname__\u001b[39m\u001b[38;5;132;01m}\u001b[39;00m\u001b[38;5;124m.set\u001b[39m\u001b[38;5;124m\"\u001b[39m\n",
            "File \u001b[1;32m~\\anaconda3\\Lib\\site-packages\\matplotlib\\artist.py:1231\u001b[0m, in \u001b[0;36mArtist.set\u001b[1;34m(self, **kwargs)\u001b[0m\n\u001b[0;32m   1227\u001b[0m \u001b[38;5;28;01mdef\u001b[39;00m \u001b[38;5;21mset\u001b[39m(\u001b[38;5;28mself\u001b[39m, \u001b[38;5;241m*\u001b[39m\u001b[38;5;241m*\u001b[39mkwargs):\n\u001b[0;32m   1228\u001b[0m     \u001b[38;5;66;03m# docstring and signature are auto-generated via\u001b[39;00m\n\u001b[0;32m   1229\u001b[0m     \u001b[38;5;66;03m# Artist._update_set_signature_and_docstring() at the end of the\u001b[39;00m\n\u001b[0;32m   1230\u001b[0m     \u001b[38;5;66;03m# module.\u001b[39;00m\n\u001b[1;32m-> 1231\u001b[0m     \u001b[38;5;28;01mreturn\u001b[39;00m \u001b[38;5;28mself\u001b[39m\u001b[38;5;241m.\u001b[39m_internal_update(cbook\u001b[38;5;241m.\u001b[39mnormalize_kwargs(kwargs, \u001b[38;5;28mself\u001b[39m))\n",
            "File \u001b[1;32m~\\anaconda3\\Lib\\site-packages\\matplotlib\\artist.py:1223\u001b[0m, in \u001b[0;36mArtist._internal_update\u001b[1;34m(self, kwargs)\u001b[0m\n\u001b[0;32m   1216\u001b[0m \u001b[38;5;28;01mdef\u001b[39;00m \u001b[38;5;21m_internal_update\u001b[39m(\u001b[38;5;28mself\u001b[39m, kwargs):\n\u001b[0;32m   1217\u001b[0m \u001b[38;5;250m    \u001b[39m\u001b[38;5;124;03m\"\"\"\u001b[39;00m\n\u001b[0;32m   1218\u001b[0m \u001b[38;5;124;03m    Update artist properties without prenormalizing them, but generating\u001b[39;00m\n\u001b[0;32m   1219\u001b[0m \u001b[38;5;124;03m    errors as if calling `set`.\u001b[39;00m\n\u001b[0;32m   1220\u001b[0m \n\u001b[0;32m   1221\u001b[0m \u001b[38;5;124;03m    The lack of prenormalization is to maintain backcompatibility.\u001b[39;00m\n\u001b[0;32m   1222\u001b[0m \u001b[38;5;124;03m    \"\"\"\u001b[39;00m\n\u001b[1;32m-> 1223\u001b[0m     \u001b[38;5;28;01mreturn\u001b[39;00m \u001b[38;5;28mself\u001b[39m\u001b[38;5;241m.\u001b[39m_update_props(\n\u001b[0;32m   1224\u001b[0m         kwargs, \u001b[38;5;124m\"\u001b[39m\u001b[38;5;132;01m{cls.__name__}\u001b[39;00m\u001b[38;5;124m.set() got an unexpected keyword argument \u001b[39m\u001b[38;5;124m\"\u001b[39m\n\u001b[0;32m   1225\u001b[0m         \u001b[38;5;124m\"\u001b[39m\u001b[38;5;132;01m{prop_name!r}\u001b[39;00m\u001b[38;5;124m\"\u001b[39m)\n",
            "File \u001b[1;32m~\\anaconda3\\Lib\\site-packages\\matplotlib\\artist.py:1199\u001b[0m, in \u001b[0;36mArtist._update_props\u001b[1;34m(self, props, errfmt)\u001b[0m\n\u001b[0;32m   1196\u001b[0m             \u001b[38;5;28;01mif\u001b[39;00m \u001b[38;5;129;01mnot\u001b[39;00m \u001b[38;5;28mcallable\u001b[39m(func):\n\u001b[0;32m   1197\u001b[0m                 \u001b[38;5;28;01mraise\u001b[39;00m \u001b[38;5;167;01mAttributeError\u001b[39;00m(\n\u001b[0;32m   1198\u001b[0m                     errfmt\u001b[38;5;241m.\u001b[39mformat(\u001b[38;5;28mcls\u001b[39m\u001b[38;5;241m=\u001b[39m\u001b[38;5;28mtype\u001b[39m(\u001b[38;5;28mself\u001b[39m), prop_name\u001b[38;5;241m=\u001b[39mk))\n\u001b[1;32m-> 1199\u001b[0m             ret\u001b[38;5;241m.\u001b[39mappend(func(v))\n\u001b[0;32m   1200\u001b[0m \u001b[38;5;28;01mif\u001b[39;00m ret:\n\u001b[0;32m   1201\u001b[0m     \u001b[38;5;28mself\u001b[39m\u001b[38;5;241m.\u001b[39mpchanged()\n",
            "File \u001b[1;32m~\\anaconda3\\Lib\\site-packages\\matplotlib\\axes\\_base.py:74\u001b[0m, in \u001b[0;36m_axis_method_wrapper.__set_name__.<locals>.wrapper\u001b[1;34m(self, *args, **kwargs)\u001b[0m\n\u001b[0;32m     73\u001b[0m \u001b[38;5;28;01mdef\u001b[39;00m \u001b[38;5;21mwrapper\u001b[39m(\u001b[38;5;28mself\u001b[39m, \u001b[38;5;241m*\u001b[39margs, \u001b[38;5;241m*\u001b[39m\u001b[38;5;241m*\u001b[39mkwargs):\n\u001b[1;32m---> 74\u001b[0m     \u001b[38;5;28;01mreturn\u001b[39;00m get_method(\u001b[38;5;28mself\u001b[39m)(\u001b[38;5;241m*\u001b[39margs, \u001b[38;5;241m*\u001b[39m\u001b[38;5;241m*\u001b[39mkwargs)\n",
            "File \u001b[1;32m~\\anaconda3\\Lib\\site-packages\\matplotlib\\_api\\deprecation.py:297\u001b[0m, in \u001b[0;36mrename_parameter.<locals>.wrapper\u001b[1;34m(*args, **kwargs)\u001b[0m\n\u001b[0;32m    292\u001b[0m     warn_deprecated(\n\u001b[0;32m    293\u001b[0m         since, message\u001b[38;5;241m=\u001b[39m\u001b[38;5;124mf\u001b[39m\u001b[38;5;124m\"\u001b[39m\u001b[38;5;124mThe \u001b[39m\u001b[38;5;132;01m{\u001b[39;00mold\u001b[38;5;132;01m!r}\u001b[39;00m\u001b[38;5;124m parameter of \u001b[39m\u001b[38;5;132;01m{\u001b[39;00mfunc\u001b[38;5;241m.\u001b[39m\u001b[38;5;18m__name__\u001b[39m\u001b[38;5;132;01m}\u001b[39;00m\u001b[38;5;124m() \u001b[39m\u001b[38;5;124m\"\u001b[39m\n\u001b[0;32m    294\u001b[0m         \u001b[38;5;124mf\u001b[39m\u001b[38;5;124m\"\u001b[39m\u001b[38;5;124mhas been renamed \u001b[39m\u001b[38;5;132;01m{\u001b[39;00mnew\u001b[38;5;132;01m!r}\u001b[39;00m\u001b[38;5;124m since Matplotlib \u001b[39m\u001b[38;5;132;01m{\u001b[39;00msince\u001b[38;5;132;01m}\u001b[39;00m\u001b[38;5;124m; support \u001b[39m\u001b[38;5;124m\"\u001b[39m\n\u001b[0;32m    295\u001b[0m         \u001b[38;5;124mf\u001b[39m\u001b[38;5;124m\"\u001b[39m\u001b[38;5;124mfor the old name will be dropped %(removal)s.\u001b[39m\u001b[38;5;124m\"\u001b[39m)\n\u001b[0;32m    296\u001b[0m     kwargs[new] \u001b[38;5;241m=\u001b[39m kwargs\u001b[38;5;241m.\u001b[39mpop(old)\n\u001b[1;32m--> 297\u001b[0m \u001b[38;5;28;01mreturn\u001b[39;00m func(\u001b[38;5;241m*\u001b[39margs, \u001b[38;5;241m*\u001b[39m\u001b[38;5;241m*\u001b[39mkwargs)\n",
            "File \u001b[1;32m~\\anaconda3\\Lib\\site-packages\\matplotlib\\axis.py:1969\u001b[0m, in \u001b[0;36mAxis.set_ticklabels\u001b[1;34m(self, labels, minor, fontdict, **kwargs)\u001b[0m\n\u001b[0;32m   1965\u001b[0m \u001b[38;5;28;01mif\u001b[39;00m \u001b[38;5;28misinstance\u001b[39m(locator, mticker\u001b[38;5;241m.\u001b[39mFixedLocator):\n\u001b[0;32m   1966\u001b[0m     \u001b[38;5;66;03m# Passing [] as a list of labels is often used as a way to\u001b[39;00m\n\u001b[0;32m   1967\u001b[0m     \u001b[38;5;66;03m# remove all tick labels, so only error for > 0 labels\u001b[39;00m\n\u001b[0;32m   1968\u001b[0m     \u001b[38;5;28;01mif\u001b[39;00m \u001b[38;5;28mlen\u001b[39m(locator\u001b[38;5;241m.\u001b[39mlocs) \u001b[38;5;241m!=\u001b[39m \u001b[38;5;28mlen\u001b[39m(labels) \u001b[38;5;129;01mand\u001b[39;00m \u001b[38;5;28mlen\u001b[39m(labels) \u001b[38;5;241m!=\u001b[39m \u001b[38;5;241m0\u001b[39m:\n\u001b[1;32m-> 1969\u001b[0m         \u001b[38;5;28;01mraise\u001b[39;00m \u001b[38;5;167;01mValueError\u001b[39;00m(\n\u001b[0;32m   1970\u001b[0m             \u001b[38;5;124m\"\u001b[39m\u001b[38;5;124mThe number of FixedLocator locations\u001b[39m\u001b[38;5;124m\"\u001b[39m\n\u001b[0;32m   1971\u001b[0m             \u001b[38;5;124mf\u001b[39m\u001b[38;5;124m\"\u001b[39m\u001b[38;5;124m (\u001b[39m\u001b[38;5;132;01m{\u001b[39;00m\u001b[38;5;28mlen\u001b[39m(locator\u001b[38;5;241m.\u001b[39mlocs)\u001b[38;5;132;01m}\u001b[39;00m\u001b[38;5;124m), usually from a call to\u001b[39m\u001b[38;5;124m\"\u001b[39m\n\u001b[0;32m   1972\u001b[0m             \u001b[38;5;124m\"\u001b[39m\u001b[38;5;124m set_ticks, does not match\u001b[39m\u001b[38;5;124m\"\u001b[39m\n\u001b[0;32m   1973\u001b[0m             \u001b[38;5;124mf\u001b[39m\u001b[38;5;124m\"\u001b[39m\u001b[38;5;124m the number of labels (\u001b[39m\u001b[38;5;132;01m{\u001b[39;00m\u001b[38;5;28mlen\u001b[39m(labels)\u001b[38;5;132;01m}\u001b[39;00m\u001b[38;5;124m).\u001b[39m\u001b[38;5;124m\"\u001b[39m)\n\u001b[0;32m   1974\u001b[0m     tickd \u001b[38;5;241m=\u001b[39m {loc: lab \u001b[38;5;28;01mfor\u001b[39;00m loc, lab \u001b[38;5;129;01min\u001b[39;00m \u001b[38;5;28mzip\u001b[39m(locator\u001b[38;5;241m.\u001b[39mlocs, labels)}\n\u001b[0;32m   1975\u001b[0m     func \u001b[38;5;241m=\u001b[39m functools\u001b[38;5;241m.\u001b[39mpartial(\u001b[38;5;28mself\u001b[39m\u001b[38;5;241m.\u001b[39m_format_with_dict, tickd)\n",
            "\u001b[1;31mValueError\u001b[0m: The number of FixedLocator locations (2), usually from a call to set_ticks, does not match the number of labels (3)."
          ]
        },
        {
          "data": {
            "image/png": "[encoded data removed]",
            "text/plain": [
              "<Figure size 640x480 with 2 Axes>"
            ]
          },
          "metadata": {},
          "output_type": "display_data"
        }
      ],
      "source": [
        "labels = [0,1,2]\n",
        "disp = ConfusionMatrixDisplay(confusion_matrix=cf_matrix, display_labels=labels)\n",
        "disp.plot();"
      ]
    },
    {
      "cell_type": "markdown",
      "source": [
        "Multi-class labels are converted to binary format using **LabelBinarizer()** for further analysis."
      ],
      "metadata": {
        "id": "eiL0TcMF_tMH"
      },
      "id": "eiL0TcMF_tMH"
    },
    {
      "cell_type": "code",
      "execution_count": null,
      "id": "49c54d5e",
      "metadata": {
        "id": "49c54d5e"
      },
      "outputs": [],
      "source": [
        "# Convert multi-class labels to binary\n",
        "lb = LabelBinarizer()\n",
        "y_test_bin = lb.fit_transform(y_test)"
      ]
    },
    {
      "cell_type": "markdown",
      "source": [
        "A precision-recall curve is plotted to illustrate the trade-off between precision and recall, crucial for understanding model performance across different thresholds."
      ],
      "metadata": {
        "id": "iYpBb-iA_sR6"
      },
      "id": "iYpBb-iA_sR6"
    },
    {
      "cell_type": "code",
      "execution_count": null,
      "id": "a88a616f",
      "metadata": {
        "id": "a88a616f",
        "outputId": "f2704326-0dc9-4fef-ddda-1ecd6bacda08"
      },
      "outputs": [
        {
          "data": {
            "image/png": "[encoded data removed]",
            "text/plain": [
              "<Figure size 600x600 with 1 Axes>"
            ]
          },
          "metadata": {},
          "output_type": "display_data"
        }
      ],
      "source": [
        "# Plot Precision-Recall Curve\n",
        "y_pred_proba = classifier.predict_proba(X_test)[:, 1]\n",
        "precision, recall, thresholds = precision_recall_curve(y_test_bin, y_pred_proba)\n",
        "\n",
        "fig, ax = plt.subplots(figsize=(6, 6))\n",
        "ax.plot(recall, precision, label='Naive Bayes Classification', color='firebrick')\n",
        "ax.set_title('Precision-Recall Curve')\n",
        "ax.set_xlabel('Recall')\n",
        "ax.set_ylabel('Precision')\n",
        "plt.box(False)\n",
        "ax.legend();"
      ]
    },
    {
      "cell_type": "markdown",
      "source": [
        "An AUC/ROC curve is plotted to visualize the trade-off between the false positive rate and true positive rate, providing insights into the classifier's discriminatory ability."
      ],
      "metadata": {
        "id": "JPl5wFOy_2Rs"
      },
      "id": "JPl5wFOy_2Rs"
    },
    {
      "cell_type": "code",
      "execution_count": null,
      "id": "98980d10",
      "metadata": {
        "id": "98980d10",
        "outputId": "998af074-f2e2-4969-e7d6-43de1bbb6302"
      },
      "outputs": [
        {
          "data": {
            "image/png": "[encoded data removed]",
            "text/plain": [
              "<Figure size 600x600 with 1 Axes>"
            ]
          },
          "metadata": {},
          "output_type": "display_data"
        }
      ],
      "source": [
        "# Plot AUC/ROC curve\n",
        "y_pred_proba = classifier.predict_proba(X_test)[:, 1]\n",
        "fpr, tpr, thresholds = metrics.roc_curve(y_test_bin, y_pred_proba)\n",
        "\n",
        "fig, ax = plt.subplots(figsize=(6, 6))\n",
        "ax.plot(fpr, tpr, label='Naive Bayes Classification', color='firebrick')\n",
        "ax.set_title('ROC Curve')\n",
        "ax.set_xlabel('False Positive Rate')\n",
        "ax.set_ylabel('True Positive Rate')\n",
        "plt.box(False)\n",
        "ax.legend();"
      ]
    },
    {
      "cell_type": "code",
      "execution_count": null,
      "id": "a750f094",
      "metadata": {
        "id": "a750f094"
      },
      "outputs": [],
      "source": []
    }
  ],
  "metadata": {
    "kernelspec": {
      "display_name": "Python 3 (ipykernel)",
      "language": "python",
      "name": "python3"
    },
    "language_info": {
      "codemirror_mode": {
        "name": "ipython",
        "version": 3
      },
      "file_extension": ".py",
      "mimetype": "text/x-python",
      "name": "python",
      "nbconvert_exporter": "python",
      "pygments_lexer": "ipython3",
      "version": "3.11.5"
    },
    "colab": {
      "provenance": [],
      "include_colab_link": true
    }
  },
  "nbformat": 4,
  "nbformat_minor": 5
}